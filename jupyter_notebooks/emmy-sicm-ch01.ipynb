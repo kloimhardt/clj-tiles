{
 "cells": [
  {
   "cell_type": "code",
   "execution_count": 1,
   "id": "e474ab21-17a9-4c46-8705-33a81be65778",
   "metadata": {},
   "outputs": [
    {
     "data": {
      "text/plain": [
       "#'user/_"
      ]
     },
     "execution_count": 1,
     "metadata": {},
     "output_type": "execute_result"
    }
   ],
   "source": [
    "(require '[clojupyter.misc.helper :as helper])\n",
    "(def _ (helper/add-dependencies '[org.mentat/emmy \"0.32.0\"]))"
   ]
  },
  {
   "cell_type": "code",
   "execution_count": 2,
   "id": "ad54be91-da69-46cd-b5fd-6950f77c00db",
   "metadata": {},
   "outputs": [
    {
     "data": {
      "text/plain": [
       "#'user/_"
      ]
     },
     "execution_count": 2,
     "metadata": {},
     "output_type": "execute_result"
    }
   ],
   "source": [
    "(def _ (helper/add-dependencies '[org.scicloj/kindly  \"4-beta14\"]))\n",
    "(def _ (helper/add-dependencies '[org.scicloj/kindly-advice  \"1-beta12\"]))"
   ]
  },
  {
   "cell_type": "code",
   "execution_count": 3,
   "id": "f2173b61-eee5-4cfc-9c3c-875018ad97c2",
   "metadata": {},
   "outputs": [
    {
     "name": "stderr",
     "output_type": "stream",
     "text": [
      "WARNING: abs already refers to: #'clojure.core/abs in namespace: clojure.math.numeric-tower, being replaced by: #'clojure.math.numeric-tower/abs\n"
     ]
    },
    {
     "data": {
      "text/plain": [
       "nil"
      ]
     },
     "execution_count": 3,
     "metadata": {},
     "output_type": "execute_result"
    }
   ],
   "source": [
    "(ns emmy-sicm-ch01\n",
    "    (:refer-clojure :exclude [+ - * / zero? compare divide numerator denominator infinite? abs ref partial =])\n",
    "    (:require [clojure.spec.alpha :as s]\n",
    "              [clojure.spec.test.alpha :as ts]\n",
    "              [emmy.env :refer :all :exclude [r->p]]\n",
    "              [emmy.mechanics.lagrange :as lg]\n",
    "              [emmy.numerical.minimize :as mn]\n",
    "              [scicloj.kindly.v4.kind :as kind]))"
   ]
  },
  {
   "cell_type": "markdown",
   "id": "df17025b-f6f9-4740-bab2-92ff01f7457c",
   "metadata": {},
   "source": [
    "## 1.4 Computing Actions"
   ]
  },
  {
   "cell_type": "markdown",
   "id": "572c5992-d767-452b-9b7a-e8ac58db3bf6",
   "metadata": {},
   "source": [
    "The following examples are taken from the open-access book [Structure and Interpretation of Classical Mechanics (SICM)](https://mitp-content-server.mit.edu/books/content/sectbyfn/books_pres_0/9579/sicm_edition_2.zip/chapter001.html). First task: Calculate the action for the free particle along a path. Consider the particle moving at uniform speed along a straight line."
   ]
  },
  {
   "cell_type": "code",
   "execution_count": 4,
   "id": "aea1534f-f050-4d17-9bd0-59ee15b08c8f",
   "metadata": {},
   "outputs": [
    {
     "data": {
      "text/html": [
       "435.0"
      ]
     },
     "execution_count": 4,
     "metadata": {},
     "output_type": "execute_result"
    }
   ],
   "source": [
    "(defn test-path\n",
    "  \"See p. 20\"\n",
    "  [t]\n",
    "  (up (+ (* 4 t) 7)\n",
    "      (+ (* 3 t) 5)\n",
    "      (+ (* 2 t) 1)))\n",
    "\n",
    "(Lagrangian-action (lg/L-free-particle 3.0) test-path 0.0 10.0)"
   ]
  },
  {
   "cell_type": "markdown",
   "id": "ea59dcc3-710a-4578-9a2e-1c28579a0bcc",
   "metadata": {},
   "source": [
    "#### Paths of minimum Action"
   ]
  },
  {
   "cell_type": "markdown",
   "id": "70dc0f97-fcfe-42f4-aa29-57e950d47e7c",
   "metadata": {},
   "source": [
    "Show that the action is smaller along a straight-line test path than along nearby paths"
   ]
  },
  {
   "cell_type": "code",
   "execution_count": 5,
   "id": "3f8c23d4-fa0b-44e7-a7df-ae6d7094e0ef",
   "metadata": {},
   "outputs": [
    {
     "data": {
      "text/html": [
       "564.1214285776678"
      ]
     },
     "execution_count": 5,
     "metadata": {},
     "output_type": "execute_result"
    }
   ],
   "source": [
    "(defn make-η\n",
    "  \"See p. 21\"\n",
    "  [ν t1 t2]\n",
    "  (fn [t]\n",
    "    (* (- t t1) (- t t2) (ν t))))\n",
    "\n",
    "(defn varied-free-particle-action\n",
    "  \"See p. 21\"\n",
    "  [mass q ν t1 t2]\n",
    "  (fn [ε]\n",
    "    (let [η (make-η ν t1 t2)]\n",
    "      (Lagrangian-action (lg/L-free-particle mass)\n",
    "                         (+ q (* ε η)) t1 t2))))\n",
    "             \n",
    "((varied-free-particle-action 3.0 test-path (up sin cos square) 0.0 10.0) 0.01)"
   ]
  },
  {
   "cell_type": "markdown",
   "id": "4699175f-0b10-486c-b8e7-bde81e2d8bd1",
   "metadata": {},
   "source": [
    "Simulate lots of the paths in this manner. Proof that the minimum value of the action is the action along the straight path. For this proof it suffices that some optimization parameter is close to zero (need not be exactly zero)."
   ]
  },
  {
   "cell_type": "code",
   "execution_count": 6,
   "id": "e73520c2-b812-4be8-ba67-bb556a0d8222",
   "metadata": {},
   "outputs": [
    {
     "data": {
      "text/html": [
       "<div class=\"kind-map\"><div style=\"border:1px solid grey;padding:2px;\">:result</div><div style=\"border:1px solid grey;padding:2px;\">2.9802238177427906E-8</div><div style=\"border:1px solid grey;padding:2px;\">:value</div><div style=\"border:1px solid grey;padding:2px;\">434.9999477302537</div><div style=\"border:1px solid grey;padding:2px;\">:iterations</div><div style=\"border:1px solid grey;padding:2px;\">19</div><div style=\"border:1px solid grey;padding:2px;\">:converged?</div><div style=\"border:1px solid grey;padding:2px;\">true</div><div style=\"border:1px solid grey;padding:2px;\">:fncalls</div><div style=\"border:1px solid grey;padding:2px;\">20</div></div>"
      ]
     },
     "execution_count": 6,
     "metadata": {},
     "output_type": "execute_result"
    }
   ],
   "source": [
    "(minimize (varied-free-particle-action 3.0 test-path (up sin cos square) 0.0 10.0) -2 1)"
   ]
  },
  {
   "cell_type": "markdown",
   "id": "17b2464f-a5c5-420c-a255-81237675874e",
   "metadata": {},
   "source": [
    "I provide some helper functions for visualization:"
   ]
  },
  {
   "cell_type": "code",
   "execution_count": 7,
   "id": "529737d4-27a1-4c0b-925e-3d5f8d8d7570",
   "metadata": {},
   "outputs": [
    {
     "data": {
      "text/plain": [
       "#'emmy-sicm-ch01/points-tz->plot"
      ]
     },
     "execution_count": 7,
     "metadata": {},
     "output_type": "execute_result"
    }
   ],
   "source": [
    "(defn points->plot [paths x-axis-name y-axis-name]\n",
    " (let [coord-encoding (fn [coord] {:field coord :type \"quantitative\" :scale {:zero false}})\n",
    "       paths-to-data (flatten \n",
    "                         (map (fn [[id data]] \n",
    "                                  (map (fn [[t x y z]] \n",
    "                                           {:id id :t t :x x :y y :z z}) data)) paths))]\n",
    "  {:$schema \"https://vega.github.io/schema/vega-lite/v2.json\"\n",
    "   :data {:values paths-to-data}\n",
    "   :encoding \n",
    "     {:x (coord-encoding x-axis-name) \n",
    "      :y (coord-encoding y-axis-name)}\n",
    "   :layer\n",
    "   [{:mark \"line\"\n",
    "     :encoding\n",
    "     {:order {:field \"t\" :type \"temporal\"}\n",
    "      :color {:field \"id\" :type \"nominal\"}}}\n",
    "    {:mark {:type \"point\" :filled true}}]}))\n",
    "\n",
    "(defn alt-range [t0 t1 nofsteps]\n",
    "    (map float (flatten [t0 (linear-interpolants t0 t1 (- nofsteps 2)) t1])))\n",
    "\n",
    "(defn make-path-txyz [fn_t t0 t1 nofsteps]\n",
    "  (mapv #(cons % (.v (fn_t %)))\n",
    "    (alt-range t0 t1 nofsteps)))\n",
    "\n",
    "(defn points-xy->plot [paths] \n",
    "  (points->plot paths \"x\" \"y\"))\n",
    "\n",
    "(defn points-xz->plot [paths] \n",
    "  (points->plot paths \"x\" \"z\"))\n",
    "\n",
    "(defn points-tz->plot [paths] \n",
    "  (points->plot paths \"t\" \"z\"))"
   ]
  },
  {
   "cell_type": "code",
   "execution_count": 8,
   "id": "8ffed0bf-01e2-48df-bab2-c60e55a4106e",
   "metadata": {},
   "outputs": [
    {
     "data": {
      "text/plain": [
       "nil"
      ]
     },
     "execution_count": 8,
     "metadata": {},
     "output_type": "execute_result"
    }
   ],
   "source": [
    "(comment \n",
    " (def werte {\"sb\" [[0 7 5 1] [1 11 8 10]]\n",
    "            \"uv\" [[2 9 2 4] [3 3  9 7]]})\n",
    "\n",
    "(kind/vega-lite (points-xz->plot werte)))"
   ]
  },
  {
   "cell_type": "markdown",
   "id": "29bb8a8b-ecb7-472a-a295-19a328652e37",
   "metadata": {},
   "source": [
    "Create data to plot two straight paths in the xy plane. One path is along the x axis (name: path-along-x), the second path leads in all directions."
   ]
  },
  {
   "cell_type": "code",
   "execution_count": 9,
   "id": "e9b8f551-ae05-47bf-bb62-67782fbf926d",
   "metadata": {},
   "outputs": [
    {
     "data": {
      "text/plain": [
       "#'emmy-sicm-ch01/path-points-1"
      ]
     },
     "execution_count": 9,
     "metadata": {},
     "output_type": "execute_result"
    }
   ],
   "source": [
    "(defn path-along-x\n",
    "  [t]\n",
    "  (up (+ (* 5 t) 1)\n",
    "      (* 0 t)\n",
    "      (* 0 t)))\n",
    "\n",
    "(def path-points-1 {\"a straight x\" (make-path-txyz path-along-x 0 10 8)\n",
    "                    \"b book\" (make-path-txyz test-path 0 10 8)})"
   ]
  },
  {
   "cell_type": "markdown",
   "id": "6a3978b8-0af7-409c-ab03-a61b504c64e5",
   "metadata": {},
   "source": [
    "Plot the two paths"
   ]
  },
  {
   "cell_type": "code",
   "execution_count": 10,
   "id": "0d53b7d6-76b8-4cfb-bd87-4c47b6b64107",
   "metadata": {},
   "outputs": [
    {
     "data": {
      "application/vnd.vegalite.v3+json": {
       "$schema": "https://vega.github.io/schema/vega-lite/v2.json",
       "data": {
        "values": [
         {
          "id": "a straight x",
          "t": 0,
          "x": 1,
          "y": 0,
          "z": 0
         },
         {
          "id": "a straight x",
          "t": 1.4285715,
          "x": 8.142857313156128,
          "y": 0,
          "z": 0
         },
         {
          "id": "a straight x",
          "t": 2.857143,
          "x": 15.285714626312256,
          "y": 0,
          "z": 0
         },
         {
          "id": "a straight x",
          "t": 4.285714,
          "x": 22.42857074737549,
          "y": 0,
          "z": 0
         },
         {
          "id": "a straight x",
          "t": 5.714286,
          "x": 29.57142925262451,
          "y": 0,
          "z": 0
         },
         {
          "id": "a straight x",
          "t": 7.142857,
          "x": 36.714285373687744,
          "y": 0,
          "z": 0
         },
         {
          "id": "a straight x",
          "t": 8.571428,
          "x": 43.85714149475098,
          "y": 0,
          "z": 0
         },
         {
          "id": "a straight x",
          "t": 10,
          "x": 51,
          "y": 0,
          "z": 0
         },
         {
          "id": "b book",
          "t": 0,
          "x": 7,
          "y": 5,
          "z": 1
         },
         {
          "id": "b book",
          "t": 1.4285715,
          "x": 12.714285850524902,
          "y": 9.285714387893677,
          "z": 3.857142925262451
         },
         {
          "id": "b book",
          "t": 2.857143,
          "x": 18.428571701049805,
          "y": 13.571428775787354,
          "z": 6.714285850524902
         },
         {
          "id": "b book",
          "t": 4.285714,
          "x": 24.14285659790039,
          "y": 17.857142448425293,
          "z": 9.571428298950195
         },
         {
          "id": "b book",
          "t": 5.714286,
          "x": 29.85714340209961,
          "y": 22.142857551574707,
          "z": 12.428571701049805
         },
         {
          "id": "b book",
          "t": 7.142857,
          "x": 35.571428298950195,
          "y": 26.428571224212646,
          "z": 15.285714149475098
         },
         {
          "id": "b book",
          "t": 8.571428,
          "x": 41.28571319580078,
          "y": 30.714284896850586,
          "z": 18.14285659790039
         },
         {
          "id": "b book",
          "t": 10,
          "x": 47,
          "y": 35,
          "z": 21
         }
        ]
       },
       "encoding": {
        "x": {
         "field": "x",
         "scale": {
          "zero": false
         },
         "type": "quantitative"
        },
        "y": {
         "field": "y",
         "scale": {
          "zero": false
         },
         "type": "quantitative"
        }
       },
       "layer": [
        {
         "encoding": {
          "color": {
           "field": "id",
           "type": "nominal"
          },
          "order": {
           "field": "t",
           "type": "temporal"
          }
         },
         "mark": "line"
        },
        {
         "mark": {
          "filled": true,
          "type": "point"
         }
        }
       ]
      },
      "image/png": "[encoded data removed]"
     },
     "execution_count": 10,
     "metadata": {},
     "output_type": "execute_result"
    }
   ],
   "source": [
    "(-> (points-xy->plot path-points-1)\n",
    "    kind/vega-lite)"
   ]
  },
  {
   "cell_type": "markdown",
   "id": "ca56f23b-63de-4bd2-8db0-e6469acb0eaf",
   "metadata": {},
   "source": [
    "Create two variations of the path-along-x. Calculate the action. Show once again that the Lagrangian-action is indeed smallest for the straight path."
   ]
  },
  {
   "cell_type": "code",
   "execution_count": 11,
   "id": "71e259d9-f983-4db9-b84e-0ef1fa4999a5",
   "metadata": {},
   "outputs": [
    {
     "data": {
      "text/html": [
       "<div class=\"kind-vector\"><div style=\"border:1px solid grey;padding:2px;\">375.0</div><div style=\"border:1px solid grey;padding:2px;\">383.8260332333053</div><div style=\"border:1px solid grey;padding:2px;\">410.30413299914085</div></div>"
      ]
     },
     "execution_count": 11,
     "metadata": {},
     "output_type": "execute_result"
    }
   ],
   "source": [
    "(defn make-varied-path [ε t0 t1]\n",
    " (+ path-along-x (* ε (make-η (up #(* 0 %) identity #(* 5.0 (sin %))) t0 t1))))\n",
    "\n",
    "(def small-varied-path (make-varied-path 0.01 0 10))\n",
    "(def large-varied-path (make-varied-path 0.02 0 10))\n",
    "\n",
    "[(Lagrangian-action (lg/L-free-particle 3.0) path-along-x 0.0 10.0)\n",
    " (Lagrangian-action (lg/L-free-particle 3.0) small-varied-path 0.0 10.0)\n",
    " (Lagrangian-action (lg/L-free-particle 3.0) large-varied-path 0.0 10.0)]"
   ]
  },
  {
   "cell_type": "markdown",
   "id": "bd6bfdd9-352c-4d00-aa39-1f8dd58c3ebd",
   "metadata": {},
   "source": [
    "Create data to plot the three paths in the xz plane along with their actions."
   ]
  },
  {
   "cell_type": "code",
   "execution_count": 12,
   "id": "e173b6ec-f24a-4640-904a-a615ae9a572e",
   "metadata": {},
   "outputs": [
    {
     "data": {
      "text/plain": [
       "#'emmy-sicm-ch01/path-points-2"
      ]
     },
     "execution_count": 12,
     "metadata": {},
     "output_type": "execute_result"
    }
   ],
   "source": [
    "(def path-points-2\n",
    "    {\"path-along-x\" (make-path-txyz path-along-x 0 10 8)\n",
    "     \"small-varied-path\" (make-path-txyz small-varied-path 0 10 24)\n",
    "     \"large-varied-path\" (make-path-txyz large-varied-path 0 10 32)})"
   ]
  },
  {
   "cell_type": "markdown",
   "id": "9ed72e87-36c5-47f0-9169-4f04b05b7efd",
   "metadata": {},
   "source": [
    "Plot the three paths."
   ]
  },
  {
   "cell_type": "code",
   "execution_count": 13,
   "id": "e35e8966-f822-42ac-8404-4585530a7937",
   "metadata": {},
   "outputs": [
    {
     "data": {
      "application/vnd.vegalite.v3+json": {
       "$schema": "https://vega.github.io/schema/vega-lite/v2.json",
       "data": {
        "values": [
         {
          "id": "path-along-x",
          "t": 0,
          "x": 1,
          "y": 0,
          "z": 0
         },
         {
          "id": "path-along-x",
          "t": 1.4285715,
          "x": 8.142857313156128,
          "y": 0,
          "z": 0
         },
         {
          "id": "path-along-x",
          "t": 2.857143,
          "x": 15.285714626312256,
          "y": 0,
          "z": 0
         },
         {
          "id": "path-along-x",
          "t": 4.285714,
          "x": 22.42857074737549,
          "y": 0,
          "z": 0
         },
         {
          "id": "path-along-x",
          "t": 5.714286,
          "x": 29.57142925262451,
          "y": 0,
          "z": 0
         },
         {
          "id": "path-along-x",
          "t": 7.142857,
          "x": 36.714285373687744,
          "y": 0,
          "z": 0
         },
         {
          "id": "path-along-x",
          "t": 8.571428,
          "x": 43.85714149475098,
          "y": 0,
          "z": 0
         },
         {
          "id": "path-along-x",
          "t": 10,
          "x": 51,
          "y": 0,
          "z": 0
         },
         {
          "id": "small-varied-path",
          "t": 0,
          "x": 1,
          "y": 0,
          "z": 0
         },
         {
          "id": "small-varied-path",
          "t": 0.4347826,
          "x": 3.1739129722118378,
          "y": -0.01808169523329512,
          "z": -0.08758686986866958
         },
         {
          "id": "small-varied-path",
          "t": 0.8695652,
          "x": 5.3478259444236755,
          "y": -0.06903920009434646,
          "z": -0.30330846411659945
         },
         {
          "id": "small-varied-path",
          "t": 1.3043479,
          "x": 7.521739363670349,
          "y": -0.1479411620851551,
          "z": -0.5470957397384874
         },
         {
          "id": "small-varied-path",
          "t": 1.7391304,
          "x": 9.695651888847351,
          "y": -0.24985615366671365,
          "z": -0.708182957737249
         },
         {
          "id": "small-varied-path",
          "t": 2.173913,
          "x": 11.8695650100708,
          "y": -0.36985286859377675,
          "z": -0.7005809183612942
         },
         {
          "id": "small-varied-path",
          "t": 2.6086957,
          "x": 14.043478727340698,
          "y": -0.5029999474388833,
          "z": -0.48978385166353494
         },
         {
          "id": "small-varied-path",
          "t": 3.0434783,
          "x": 16.2173912525177,
          "y": -0.6443659043541341,
          "z": -0.10369745832452716
         },
         {
          "id": "small-varied-path",
          "t": 3.4782608,
          "x": 18.391303777694702,
          "y": -0.7890194409814769,
          "z": 0.3746813754524938
         },
         {
          "id": "small-varied-path",
          "t": 3.9130435,
          "x": 20.5652174949646,
          "y": -0.9320292661740079,
          "z": 0.8302853177987435
         },
         {
          "id": "small-varied-path",
          "t": 4.347826,
          "x": 22.7391300201416,
          "y": -1.068463852619727,
          "z": 1.1479806824783394
         },
         {
          "id": "small-varied-path",
          "t": 4.7826085,
          "x": 24.913042545318604,
          "y": -1.1933919114252125,
          "z": 1.2445623973873214
         },
         {
          "id": "small-varied-path",
          "t": 5.2173915,
          "x": 27.086957454681396,
          "y": -1.3018821825416378,
          "z": 1.0918985814556113
         },
         {
          "id": "small-varied-path",
          "t": 5.652174,
          "x": 29.2608699798584,
          "y": -1.3890030552781065,
          "z": 0.7249055837145518
         },
         {
          "id": "small-varied-path",
          "t": 6.0869565,
          "x": 31.4347825050354,
          "y": -1.4498232903178367,
          "z": 0.23219716613764607
         },
         {
          "id": "small-varied-path",
          "t": 6.521739,
          "x": 33.6086950302124,
          "y": -1.47941151944478,
          "z": -0.2680123270677726
         },
         {
          "id": "small-varied-path",
          "t": 6.9565215,
          "x": 35.782607555389404,
          "y": -1.4728363744428874,
          "z": -0.660141064729599
         },
         {
          "id": "small-varied-path",
          "t": 7.3913045,
          "x": 37.9565224647522,
          "y": -1.425166410477674,
          "z": -0.8627201879809419
         },
         {
          "id": "small-varied-path",
          "t": 7.826087,
          "x": 40.1304349899292,
          "y": -1.3314703593877615,
          "z": -0.8503306809909795
         },
         {
          "id": "small-varied-path",
          "t": 8.26087,
          "x": 42.30434989929199,
          "y": -1.1868166357212435,
          "z": -0.6596890096315621
         },
         {
          "id": "small-varied-path",
          "t": 8.695652,
          "x": 44.4782600402832,
          "y": -0.9862744364358659,
          "z": -0.377817467692756
         },
         {
          "id": "small-varied-path",
          "t": 9.130435,
          "x": 46.652174949645996,
          "y": -0.7249115063443128,
          "z": -0.11516696855300111
         },
         {
          "id": "small-varied-path",
          "t": 9.565217,
          "x": 48.82608509063721,
          "y": -0.3977976310142169,
          "z": 0.029106951839437786
         },
         {
          "id": "small-varied-path",
          "t": 10,
          "x": 51,
          "y": 0,
          "z": 0
         },
         {
          "id": "large-varied-path",
          "t": 0,
          "x": 1,
          "y": 0,
          "z": 0
         },
         {
          "id": "large-varied-path",
          "t": 0.32258064,
          "x": 2.6129031777381897,
          "y": -0.020140309651682054,
          "z": -0.09896414109414274
         },
         {
          "id": "large-varied-path",
          "t": 0.6451613,
          "x": 4.225806355476379,
          "y": -0.07787586406920202,
          "z": -0.3629238560966791
         },
         {
          "id": "large-varied-path",
          "t": 0.9677419,
          "x": 5.838709533214569,
          "y": -0.16917860144627064,
          "z": -0.7199063016607375
         },
         {
          "id": "large-varied-path",
          "t": 1.2903225,
          "x": 7.451612710952759,
          "y": -0.2900204599765986,
          "z": -1.079915008162626
         },
         {
          "id": "large-varied-path",
          "t": 1.6129032,
          "x": 9.064516186714172,
          "y": -0.4363734070049713,
          "z": -1.3515585151103753
         },
         {
          "id": "large-varied-path",
          "t": 1.9354838,
          "x": 10.677419066429138,
          "y": -0.6042092932718752,
          "z": -1.4582235887571844
         },
         {
          "id": "large-varied-path",
          "t": 2.2580645,
          "x": 12.290322542190552,
          "y": -0.7895001800257707,
          "z": -1.351310949336669
         },
         {
          "id": "large-varied-path",
          "t": 2.580645,
          "x": 13.903225421905518,
          "y": -0.9882178695047178,
          "z": -1.0185841400537106
         },
         {
          "id": "large-varied-path",
          "t": 2.903226,
          "x": 15.516129493713379,
          "y": -1.1963345239315386,
          "z": -0.48648225323410355
         },
         {
          "id": "large-varied-path",
          "t": 3.2258065,
          "x": 17.129032373428345,
          "y": -1.4098217736149736,
          "z": 0.18380859987547926
         },
         {
          "id": "large-varied-path",
          "t": 3.548387,
          "x": 18.74193525314331,
          "y": -1.6246517098228888,
          "z": 0.9057941585687748
         },
         {
          "id": "large-varied-path",
          "t": 3.8709676,
          "x": 20.354838132858276,
          "y": -1.836796272981843,
          "z": 1.5810619508602588
         },
         {
          "id": "large-varied-path",
          "t": 4.193548,
          "x": 21.967741012573242,
          "y": -2.042227403518395,
          "z": 2.1145091757491508
         },
         {
          "id": "large-varied-path",
          "t": 4.516129,
          "x": 23.580645084381104,
          "y": -2.23691718079189,
          "z": 2.4290432348505786
         },
         {
          "id": "large-varied-path",
          "t": 4.83871,
          "x": 25.193549156188965,
          "y": -2.416837381486672,
          "z": 2.4774995887693145
         },
         {
          "id": "large-varied-path",
          "t": 5.16129,
          "x": 26.806450843811035,
          "y": -2.5779597148054596,
          "z": 2.2499675478961145
         },
         {
          "id": "large-varied-path",
          "t": 5.483871,
          "x": 28.419354915618896,
          "y": -2.7162565935462757,
          "z": 1.7754111678300473
         },
         {
          "id": "large-varied-path",
          "t": 5.806452,
          "x": 30.032258987426758,
          "y": -2.827699696148134,
          "z": 1.1173545075720808
         },
         {
          "id": "large-varied-path",
          "t": 6.129032,
          "x": 31.645160675048828,
          "y": -2.9082608598304,
          "z": 0.36428603953941896
         },
         {
          "id": "large-varied-path",
          "t": 6.451613,
          "x": 33.25806474685669,
          "y": -2.9539122592206004,
          "z": -0.38375794475261954
         },
         {
          "id": "large-varied-path",
          "t": 6.774194,
          "x": 34.87096881866455,
          "y": -2.9606256829115996,
          "z": -1.0303666969927654
         },
         {
          "id": "large-varied-path",
          "t": 7.096774,
          "x": 36.48387050628662,
          "y": -2.92437314972777,
          "z": -1.4973765172453772
         },
         {
          "id": "large-varied-path",
          "t": 7.419355,
          "x": 38.09677457809448,
          "y": -2.8411264889494188,
          "z": -1.7366599062487817
         },
         {
          "id": "large-varied-path",
          "t": 7.7419353,
          "x": 39.70967626571655,
          "y": -2.7068578910821093,
          "z": -1.7372169201695635
         },
         {
          "id": "large-varied-path",
          "t": 8.064516,
          "x": 41.322580337524414,
          "y": -2.517538895632123,
          "z": -1.526409038589985
         },
         {
          "id": "large-varied-path",
          "t": 8.387096,
          "x": 42.935482025146484,
          "y": -2.2691420066960877,
          "z": -1.1650332509341252
         },
         {
          "id": "large-varied-path",
          "t": 8.709678,
          "x": 44.54838848114014,
          "y": -1.9576379172827576,
          "z": -0.7368870372909747
         },
         {
          "id": "large-varied-path",
          "t": 9.032258,
          "x": 46.16129016876221,
          "y": -1.5790004086780152,
          "z": -0.33435489342344094
         },
         {
          "id": "large-varied-path",
          "t": 9.354838,
          "x": 47.77419185638428,
          "y": -1.1292006045820588,
          "z": -0.04217681466113105
         },
         {
          "id": "large-varied-path",
          "t": 9.67742,
          "x": 49.38709831237793,
          "y": -0.6042087871595586,
          "z": 0.07803197924252583
         },
         {
          "id": "large-varied-path",
          "t": 10,
          "x": 51,
          "y": 0,
          "z": 0
         }
        ]
       },
       "encoding": {
        "x": {
         "field": "x",
         "scale": {
          "zero": false
         },
         "type": "quantitative"
        },
        "y": {
         "field": "z",
         "scale": {
          "zero": false
         },
         "type": "quantitative"
        }
       },
       "layer": [
        {
         "encoding": {
          "color": {
           "field": "id",
           "type": "nominal"
          },
          "order": {
           "field": "t",
           "type": "temporal"
          }
         },
         "mark": "line"
        },
        {
         "mark": {
          "filled": true,
          "type": "point"
         }
        }
       ]
      },
      "image/png": "[encoded data removed]"
     },
     "execution_count": 13,
     "metadata": {},
     "output_type": "execute_result"
    }
   ],
   "source": [
    "(-> (points-xz->plot path-points-2)\n",
    "    kind/vega-lite)"
   ]
  },
  {
   "cell_type": "markdown",
   "id": "b8a7e5ed-ba91-487b-8981-ae159f807c2a",
   "metadata": {},
   "source": [
    "#### Finding trajectories that minimize the action"
   ]
  },
  {
   "cell_type": "markdown",
   "id": "fe0aa546-027d-4c6d-9af2-b4e21ff70f14",
   "metadata": {},
   "source": [
    "The SICM library provides a procedure that constructs a one dimensional path (along, say, the z axis) using an interpolation polynomial: `(make-path t0 q0 t1 q1 qs)`, where q0 and q1 are the endpoints, t0 and t1 are the corresponding times, and qs is a list of intermediate points. I give an example (note that the result, `initial-path`, is itself a function):"
   ]
  },
  {
   "cell_type": "code",
   "execution_count": 14,
   "id": "707acf10-7d8b-4861-a3e0-fb27f7313853",
   "metadata": {},
   "outputs": [
    {
     "data": {
      "text/plain": [
       "#'emmy-sicm-ch01/initial-path"
      ]
     },
     "execution_count": 14,
     "metadata": {},
     "output_type": "execute_result"
    }
   ],
   "source": [
    "(def pi-half (* 0.5 Math/PI))\n",
    "(def initial-qs [0.1 0.2 0.2])\n",
    "(def initial-path (lg/make-path 0 1.0 pi-half 0.0 initial-qs))"
   ]
  },
  {
   "cell_type": "markdown",
   "id": "4b4adec6-047f-47ed-a189-7e4695b514e7",
   "metadata": {},
   "source": [
    "Construct a parametric action that is just the action computed along that parametric path. Find approximate solution paths of a free particle and the harmonic oszillator respectively (hint: use the SICM procedure `multidimensional-minimize`)."
   ]
  },
  {
   "cell_type": "code",
   "execution_count": 15,
   "id": "bd84a8c3-fcf5-4bf8-bf2d-77ec3cf11415",
   "metadata": {},
   "outputs": [
    {
     "data": {
      "text/plain": [
       "#'emmy-sicm-ch01/harmonic-path"
      ]
     },
     "execution_count": 15,
     "metadata": {},
     "output_type": "execute_result"
    }
   ],
   "source": [
    "(defn parametric-path-actn\n",
    "  [Lagrangian t0 q0 t1 q1]\n",
    "  (fn [qs]\n",
    "    (let [path (lg/make-path t0 q0 t1 q1 qs)]\n",
    "      (Lagrangian-action Lagrangian path t0 t1))))\n",
    "\n",
    "(defn fnd-path\n",
    "  [Lagrangian t0 q0 t1 q1 initial-qs]\n",
    "  (let [minimizing-qs\n",
    "        (mn/multidimensional-minimize\n",
    "          (parametric-path-actn Lagrangian t0 q0 t1 q1)\n",
    "          initial-qs)]\n",
    "    (lg/make-path t0 q0 t1 q1 minimizing-qs)))\n",
    "\n",
    "(def free-path \n",
    "  (fnd-path (lg/L-free-particle 3.0) 0.0 1.0 pi-half 0.0 initial-qs))\n",
    "\n",
    "(def harmonic-path \n",
    "  (fnd-path (lg/L-harmonic 1.0 1.0) 0.0 1.0 pi-half 0.0 initial-qs))"
   ]
  },
  {
   "cell_type": "markdown",
   "id": "84b5a6cb-9d3a-47f4-a7a3-45c28730be63",
   "metadata": {},
   "source": [
    "Make a plot of these one dimensional paths, this time not in the x-z plane but in the t-z plane. This shows that, upon optimization, the initial-path turns into a streight line and a sinusoidal curve respectively."
   ]
  },
  {
   "cell_type": "code",
   "execution_count": 16,
   "id": "23e3a99a-43d8-4c43-8081-499c3ce19e37",
   "metadata": {},
   "outputs": [
    {
     "data": {
      "text/plain": [
       "#'emmy-sicm-ch01/plot-3"
      ]
     },
     "execution_count": 16,
     "metadata": {},
     "output_type": "execute_result"
    }
   ],
   "source": [
    "(defn make-path-tz [fn_t t0 t1 nofsteps]\n",
    "  (map #(vector % 0 0 (fn_t %)) (alt-range t0 t1 nofsteps)))\n",
    "\n",
    "(def plot-3\n",
    "    (let [i (make-path-tz initial-path 0 pi-half 50)\n",
    "          f (make-path-tz free-path 0 pi-half 50)\n",
    "          h (make-path-tz harmonic-path 0 pi-half 50)]\n",
    "      {\"orange\" i \"blue\" f \"red\" h}))"
   ]
  },
  {
   "cell_type": "code",
   "execution_count": 17,
   "id": "5d385f7a-05f2-4714-86d9-1fef8a62e52d",
   "metadata": {},
   "outputs": [
    {
     "data": {
      "application/vnd.vegalite.v3+json": {
       "$schema": "https://vega.github.io/schema/vega-lite/v2.json",
       "data": {
        "values": [
         {
          "id": "orange",
          "t": 0,
          "x": 0,
          "y": 0,
          "z": 0.9999999999999999
         },
         {
          "id": "orange",
          "t": 0.03205707,
          "x": 0,
          "y": 0,
          "z": 0.8451916319037884
         },
         {
          "id": "orange",
          "t": 0.06411414,
          "x": 0,
          "y": 0,
          "z": 0.7090975279676446
         },
         {
          "id": "orange",
          "t": 0.0961712,
          "x": 0,
          "y": 0,
          "z": 0.5903699481852688
         },
         {
          "id": "orange",
          "t": 0.12822828,
          "x": 0,
          "y": 0,
          "z": 0.487705457276696
         },
         {
          "id": "orange",
          "t": 0.16028534,
          "x": 0,
          "y": 0,
          "z": 0.39984520026222803
         },
         {
          "id": "orange",
          "t": 0.1923424,
          "x": 0,
          "y": 0,
          "z": 0.32557458325752475
         },
         {
          "id": "orange",
          "t": 0.22439948,
          "x": 0,
          "y": 0,
          "z": 0.263723445090763
         },
         {
          "id": "orange",
          "t": 0.25645655,
          "x": 0,
          "y": 0,
          "z": 0.21316609405686718
         },
         {
          "id": "orange",
          "t": 0.2885136,
          "x": 0,
          "y": 0,
          "z": 0.17282124142548047
         },
         {
          "id": "orange",
          "t": 0.32057068,
          "x": 0,
          "y": 0,
          "z": 0.1416518986289126
         },
         {
          "id": "orange",
          "t": 0.35262775,
          "x": 0,
          "y": 0,
          "z": 0.11866560085941127
         },
         {
          "id": "orange",
          "t": 0.3846848,
          "x": 0,
          "y": 0,
          "z": 0.10291426026225697
         },
         {
          "id": "orange",
          "t": 0.41674188,
          "x": 0,
          "y": 0,
          "z": 0.09349415629062456
         },
         {
          "id": "orange",
          "t": 0.44879895,
          "x": 0,
          "y": 0,
          "z": 0.08954602230623084
         },
         {
          "id": "orange",
          "t": 0.48085603,
          "x": 0,
          "y": 0,
          "z": 0.09025498128704273
         },
         {
          "id": "orange",
          "t": 0.5129131,
          "x": 0,
          "y": 0,
          "z": 0.09485056369032396
         },
         {
          "id": "orange",
          "t": 0.54497015,
          "x": 0,
          "y": 0,
          "z": 0.10260669898757288
         },
         {
          "id": "orange",
          "t": 0.5770272,
          "x": 0,
          "y": 0,
          "z": 0.11284173705679726
         },
         {
          "id": "orange",
          "t": 0.6090843,
          "x": 0,
          "y": 0,
          "z": 0.1249184563008898
         },
         {
          "id": "orange",
          "t": 0.64114136,
          "x": 0,
          "y": 0,
          "z": 0.13824397285809287
         },
         {
          "id": "orange",
          "t": 0.6731984,
          "x": 0,
          "y": 0,
          "z": 0.1522698769828441
         },
         {
          "id": "orange",
          "t": 0.7052555,
          "x": 0,
          "y": 0,
          "z": 0.16649217164541052
         },
         {
          "id": "orange",
          "t": 0.73731256,
          "x": 0,
          "y": 0,
          "z": 0.18045118723685316
         },
         {
          "id": "orange",
          "t": 0.7693696,
          "x": 0,
          "y": 0,
          "z": 0.19373174151427686
         },
         {
          "id": "orange",
          "t": 0.8014267,
          "x": 0,
          "y": 0,
          "z": 0.20596305469566623
         },
         {
          "id": "orange",
          "t": 0.83348376,
          "x": 0,
          "y": 0,
          "z": 0.2168186868073263
         },
         {
          "id": "orange",
          "t": 0.86554086,
          "x": 0,
          "y": 0,
          "z": 0.22601669045317518
         },
         {
          "id": "orange",
          "t": 0.8975979,
          "x": 0,
          "y": 0,
          "z": 0.23331945178784808
         },
         {
          "id": "orange",
          "t": 0.92965496,
          "x": 0,
          "y": 0,
          "z": 0.23853381761739167
         },
         {
          "id": "orange",
          "t": 0.96171206,
          "x": 0,
          "y": 0,
          "z": 0.2415110267225966
         },
         {
          "id": "orange",
          "t": 0.9937691,
          "x": 0,
          "y": 0,
          "z": 0.24214671062255144
         },
         {
          "id": "orange",
          "t": 1.0258262,
          "x": 0,
          "y": 0,
          "z": 0.2403809215470849
         },
         {
          "id": "orange",
          "t": 1.0578833,
          "x": 0,
          "y": 0,
          "z": 0.23619812350135794
         },
         {
          "id": "orange",
          "t": 1.0899403,
          "x": 0,
          "y": 0,
          "z": 0.22962718026478468
         },
         {
          "id": "orange",
          "t": 1.1219974,
          "x": 0,
          "y": 0,
          "z": 0.2207413639698621
         },
         {
          "id": "orange",
          "t": 1.1540544,
          "x": 0,
          "y": 0,
          "z": 0.20965835406324418
         },
         {
          "id": "orange",
          "t": 1.1861116,
          "x": 0,
          "y": 0,
          "z": 0.19654018498217063
         },
         {
          "id": "orange",
          "t": 1.2181686,
          "x": 0,
          "y": 0,
          "z": 0.1815934490877722
         },
         {
          "id": "orange",
          "t": 1.2502257,
          "x": 0,
          "y": 0,
          "z": 0.16506900282220371
         },
         {
          "id": "orange",
          "t": 1.2822827,
          "x": 0,
          "y": 0,
          "z": 0.14726215505390172
         },
         {
          "id": "orange",
          "t": 1.3143398,
          "x": 0,
          "y": 0,
          "z": 0.12851262196546287
         },
         {
          "id": "orange",
          "t": 1.3463968,
          "x": 0,
          "y": 0,
          "z": 0.10920452705365236
         },
         {
          "id": "orange",
          "t": 1.378454,
          "x": 0,
          "y": 0,
          "z": 0.08976632917629068
         },
         {
          "id": "orange",
          "t": 1.410511,
          "x": 0,
          "y": 0,
          "z": 0.070671112574205
         },
         {
          "id": "orange",
          "t": 1.4425681,
          "x": 0,
          "y": 0,
          "z": 0.05243615053039541
         },
         {
          "id": "orange",
          "t": 1.4746251,
          "x": 0,
          "y": 0,
          "z": 0.03562319596340302
         },
         {
          "id": "orange",
          "t": 1.5066822,
          "x": 0,
          "y": 0,
          "z": 0.02083840910593615
         },
         {
          "id": "orange",
          "t": 1.5387392,
          "x": 0,
          "y": 0,
          "z": 0.008732357504845467
         },
         {
          "id": "orange",
          "t": 1.5707964,
          "x": 0,
          "y": 0,
          "z": -9.275838763755928e-09
         },
         {
          "id": "blue",
          "t": 0,
          "x": 0,
          "y": 0,
          "z": 0.9999999999999999
         },
         {
          "id": "blue",
          "t": 0.03205707,
          "x": 0,
          "y": 0,
          "z": 0.9795816029652171
         },
         {
          "id": "blue",
          "t": 0.06411414,
          "x": 0,
          "y": 0,
          "z": 0.9591646681405734
         },
         {
          "id": "blue",
          "t": 0.0961712,
          "x": 0,
          "y": 0,
          "z": 0.9387490720187678
         },
         {
          "id": "blue",
          "t": 0.12822828,
          "x": 0,
          "y": 0,
          "z": 0.9183346775164372
         },
         {
          "id": "blue",
          "t": 0.16028534,
          "x": 0,
          "y": 0,
          "z": 0.8979213861661165
         },
         {
          "id": "blue",
          "t": 0.1923424,
          "x": 0,
          "y": 0,
          "z": 0.8775090764353246
         },
         {
          "id": "blue",
          "t": 0.22439948,
          "x": 0,
          "y": 0,
          "z": 0.8570976321964237
         },
         {
          "id": "blue",
          "t": 0.25645655,
          "x": 0,
          "y": 0,
          "z": 0.8366869617008797
         },
         {
          "id": "blue",
          "t": 0.2885136,
          "x": 0,
          "y": 0,
          "z": 0.8162769880888149
         },
         {
          "id": "blue",
          "t": 0.32057068,
          "x": 0,
          "y": 0,
          "z": 0.7958675829803984
         },
         {
          "id": "blue",
          "t": 0.35262775,
          "x": 0,
          "y": 0,
          "z": 0.7754586803223793
         },
         {
          "id": "blue",
          "t": 0.3846848,
          "x": 0,
          "y": 0,
          "z": 0.7550502194626489
         },
         {
          "id": "blue",
          "t": 0.41674188,
          "x": 0,
          "y": 0,
          "z": 0.7346420882332388
         },
         {
          "id": "blue",
          "t": 0.44879895,
          "x": 0,
          "y": 0,
          "z": 0.7142342367884374
         },
         {
          "id": "blue",
          "t": 0.48085603,
          "x": 0,
          "y": 0,
          "z": 0.6938266017123342
         },
         {
          "id": "blue",
          "t": 0.5129131,
          "x": 0,
          "y": 0,
          "z": 0.6734191249920413
         },
         {
          "id": "blue",
          "t": 0.54497015,
          "x": 0,
          "y": 0,
          "z": 0.6530117729896645
         },
         {
          "id": "blue",
          "t": 0.5770272,
          "x": 0,
          "y": 0,
          "z": 0.6326044795263206
         },
         {
          "id": "blue",
          "t": 0.6090843,
          "x": 0,
          "y": 0,
          "z": 0.6121971648544173
         },
         {
          "id": "blue",
          "t": 0.64114136,
          "x": 0,
          "y": 0,
          "z": 0.5917898684609375
         },
         {
          "id": "blue",
          "t": 0.6731984,
          "x": 0,
          "y": 0,
          "z": 0.5713825214043082
         },
         {
          "id": "blue",
          "t": 0.7052555,
          "x": 0,
          "y": 0,
          "z": 0.5509750601456056
         },
         {
          "id": "blue",
          "t": 0.73731256,
          "x": 0,
          "y": 0,
          "z": 0.5305675403813989
         },
         {
          "id": "blue",
          "t": 0.7693696,
          "x": 0,
          "y": 0,
          "z": 0.510159909378941
         },
         {
          "id": "blue",
          "t": 0.8014267,
          "x": 0,
          "y": 0,
          "z": 0.489752119807683
         },
         {
          "id": "blue",
          "t": 0.83348376,
          "x": 0,
          "y": 0,
          "z": 0.46934424357445714
         },
         {
          "id": "blue",
          "t": 0.86554086,
          "x": 0,
          "y": 0,
          "z": 0.44893620620963187
         },
         {
          "id": "blue",
          "t": 0.8975979,
          "x": 0,
          "y": 0,
          "z": 0.42852809042699236
         },
         {
          "id": "blue",
          "t": 0.92965496,
          "x": 0,
          "y": 0,
          "z": 0.4081198705077866
         },
         {
          "id": "blue",
          "t": 0.96171206,
          "x": 0,
          "y": 0,
          "z": 0.38771152613551385
         },
         {
          "id": "blue",
          "t": 0.9937691,
          "x": 0,
          "y": 0,
          "z": 0.36730315623414256
         },
         {
          "id": "blue",
          "t": 1.0258262,
          "x": 0,
          "y": 0,
          "z": 0.3468947133473457
         },
         {
          "id": "blue",
          "t": 1.0578833,
          "x": 0,
          "y": 0,
          "z": 0.32648630720548916
         },
         {
          "id": "blue",
          "t": 1.0899403,
          "x": 0,
          "y": 0,
          "z": 0.30607793910400816
         },
         {
          "id": "blue",
          "t": 1.1219974,
          "x": 0,
          "y": 0,
          "z": 0.2856696536872866
         },
         {
          "id": "blue",
          "t": 1.1540544,
          "x": 0,
          "y": 0,
          "z": 0.26526150100271045
         },
         {
          "id": "blue",
          "t": 1.1861116,
          "x": 0,
          "y": 0,
          "z": 0.24485346061079083
         },
         {
          "id": "blue",
          "t": 1.2181686,
          "x": 0,
          "y": 0,
          "z": 0.22444574514571938
         },
         {
          "id": "blue",
          "t": 1.2502257,
          "x": 0,
          "y": 0,
          "z": 0.20403834497322196
         },
         {
          "id": "blue",
          "t": 1.2822827,
          "x": 0,
          "y": 0,
          "z": 0.18363133175271368
         },
         {
          "id": "blue",
          "t": 1.3143398,
          "x": 0,
          "y": 0,
          "z": 0.16322478254661213
         },
         {
          "id": "blue",
          "t": 1.3463968,
          "x": 0,
          "y": 0,
          "z": 0.1428187798203368
         },
         {
          "id": "blue",
          "t": 1.378454,
          "x": 0,
          "y": 0,
          "z": 0.1224133355629558
         },
         {
          "id": "blue",
          "t": 1.410511,
          "x": 0,
          "y": 0,
          "z": 0.10200869480748688
         },
         {
          "id": "blue",
          "t": 1.4425681,
          "x": 0,
          "y": 0,
          "z": 0.08160488034649369
         },
         {
          "id": "blue",
          "t": 1.4746251,
          "x": 0,
          "y": 0,
          "z": 0.061201996257424895
         },
         {
          "id": "blue",
          "t": 1.5066822,
          "x": 0,
          "y": 0,
          "z": 0.04080015202073143
         },
         {
          "id": "blue",
          "t": 1.5387392,
          "x": 0,
          "y": 0,
          "z": 0.020399462519866487
         },
         {
          "id": "blue",
          "t": 1.5707964,
          "x": 0,
          "y": 0,
          "z": -2.7814696426523358e-08
         },
         {
          "id": "red",
          "t": 0,
          "x": 0,
          "y": 0,
          "z": 0.9999999999999999
         },
         {
          "id": "red",
          "t": 0.03205707,
          "x": 0,
          "y": 0,
          "z": 0.9995448333107937
         },
         {
          "id": "red",
          "t": 0.06411414,
          "x": 0,
          "y": 0,
          "z": 0.9980400513725
         },
         {
          "id": "red",
          "t": 0.0961712,
          "x": 0,
          "y": 0,
          "z": 0.9954912307236519
         },
         {
          "id": "red",
          "t": 0.12822828,
          "x": 0,
          "y": 0,
          "z": 0.991904671520167
         },
         {
          "id": "red",
          "t": 0.16028534,
          "x": 0,
          "y": 0,
          "z": 0.9872874058600518
         },
         {
          "id": "red",
          "t": 0.1923424,
          "x": 0,
          "y": 0,
          "z": 0.9816471875476487
         },
         {
          "id": "red",
          "t": 0.22439948,
          "x": 0,
          "y": 0,
          "z": 0.9749924949557464
         },
         {
          "id": "red",
          "t": 0.25645655,
          "x": 0,
          "y": 0,
          "z": 0.9673325386521364
         },
         {
          "id": "red",
          "t": 0.2885136,
          "x": 0,
          "y": 0,
          "z": 0.9586772617969149
         },
         {
          "id": "red",
          "t": 0.32057068,
          "x": 0,
          "y": 0,
          "z": 0.9490373094136509
         },
         {
          "id": "red",
          "t": 0.35262775,
          "x": 0,
          "y": 0,
          "z": 0.9384240766833156
         },
         {
          "id": "red",
          "t": 0.3846848,
          "x": 0,
          "y": 0,
          "z": 0.9268496888756135
         },
         {
          "id": "red",
          "t": 0.41674188,
          "x": 0,
          "y": 0,
          "z": 0.9143269649972022
         },
         {
          "id": "red",
          "t": 0.44879895,
          "x": 0,
          "y": 0,
          "z": 0.9008694823714345
         },
         {
          "id": "red",
          "t": 0.48085603,
          "x": 0,
          "y": 0,
          "z": 0.8864915344772192
         },
         {
          "id": "red",
          "t": 0.5129131,
          "x": 0,
          "y": 0,
          "z": 0.8712081412644795
         },
         {
          "id": "red",
          "t": 0.54497015,
          "x": 0,
          "y": 0,
          "z": 0.8550350645982134
         },
         {
          "id": "red",
          "t": 0.5770272,
          "x": 0,
          "y": 0,
          "z": 0.8379887635341625
         },
         {
          "id": "red",
          "t": 0.6090843,
          "x": 0,
          "y": 0,
          "z": 0.8200864033151509
         },
         {
          "id": "red",
          "t": 0.64114136,
          "x": 0,
          "y": 0,
          "z": 0.8013459763246115
         },
         {
          "id": "red",
          "t": 0.6731984,
          "x": 0,
          "y": 0,
          "z": 0.7817861023185386
         },
         {
          "id": "red",
          "t": 0.7052555,
          "x": 0,
          "y": 0,
          "z": 0.761426121429897
         },
         {
          "id": "red",
          "t": 0.73731256,
          "x": 0,
          "y": 0,
          "z": 0.7402862145908281
         },
         {
          "id": "red",
          "t": 0.7693696,
          "x": 0,
          "y": 0,
          "z": 0.7183871763413987
         },
         {
          "id": "red",
          "t": 0.8014267,
          "x": 0,
          "y": 0,
          "z": 0.6957505220472338
         },
         {
          "id": "red",
          "t": 0.83348376,
          "x": 0,
          "y": 0,
          "z": 0.6723986205163018
         },
         {
          "id": "red",
          "t": 0.86554086,
          "x": 0,
          "y": 0,
          "z": 0.6483543960680415
         },
         {
          "id": "red",
          "t": 0.8975979,
          "x": 0,
          "y": 0,
          "z": 0.623641675684916
         },
         {
          "id": "red",
          "t": 0.92965496,
          "x": 0,
          "y": 0,
          "z": 0.5982848792997112
         },
         {
          "id": "red",
          "t": 0.96171206,
          "x": 0,
          "y": 0,
          "z": 0.572309148526474
         },
         {
          "id": "red",
          "t": 0.9937691,
          "x": 0,
          "y": 0,
          "z": 0.5457404969399391
         },
         {
          "id": "red",
          "t": 1.0258262,
          "x": 0,
          "y": 0,
          "z": 0.5186054692564414
         },
         {
          "id": "red",
          "t": 1.0578833,
          "x": 0,
          "y": 0,
          "z": 0.49093153630196773
         },
         {
          "id": "red",
          "t": 1.0899403,
          "x": 0,
          "y": 0,
          "z": 0.4627467444885369
         },
         {
          "id": "red",
          "t": 1.1219974,
          "x": 0,
          "y": 0,
          "z": 0.4340799166312482
         },
         {
          "id": "red",
          "t": 1.1540544,
          "x": 0,
          "y": 0,
          "z": 0.40496060201351314
         },
         {
          "id": "red",
          "t": 1.1861116,
          "x": 0,
          "y": 0,
          "z": 0.3754189657853097
         },
         {
          "id": "red",
          "t": 1.2181686,
          "x": 0,
          "y": 0,
          "z": 0.34548622997394196
         },
         {
          "id": "red",
          "t": 1.2502257,
          "x": 0,
          "y": 0,
          "z": 0.3151940141815816
         },
         {
          "id": "red",
          "t": 1.2822827,
          "x": 0,
          "y": 0,
          "z": 0.2845747735675941
         },
         {
          "id": "red",
          "t": 1.3143398,
          "x": 0,
          "y": 0,
          "z": 0.2536616897596584
         },
         {
          "id": "red",
          "t": 1.3463968,
          "x": 0,
          "y": 0,
          "z": 0.2224886708537669
         },
         {
          "id": "red",
          "t": 1.378454,
          "x": 0,
          "y": 0,
          "z": 0.19109023427921595
         },
         {
          "id": "red",
          "t": 1.410511,
          "x": 0,
          "y": 0,
          "z": 0.15950197469896793
         },
         {
          "id": "red",
          "t": 1.4425681,
          "x": 0,
          "y": 0,
          "z": 0.12775986325416586
         },
         {
          "id": "red",
          "t": 1.4746251,
          "x": 0,
          "y": 0,
          "z": 0.0959007139167557
         },
         {
          "id": "red",
          "t": 1.5066822,
          "x": 0,
          "y": 0,
          "z": 0.06396206712699588
         },
         {
          "id": "red",
          "t": 1.5387392,
          "x": 0,
          "y": 0,
          "z": 0.031982189793458654
         },
         {
          "id": "red",
          "t": 1.5707964,
          "x": 0,
          "y": 0,
          "z": -4.359276253862454e-08
         }
        ]
       },
       "encoding": {
        "x": {
         "field": "t",
         "scale": {
          "zero": false
         },
         "type": "quantitative"
        },
        "y": {
         "field": "z",
         "scale": {
          "zero": false
         },
         "type": "quantitative"
        }
       },
       "layer": [
        {
         "encoding": {
          "color": {
           "field": "id",
           "type": "nominal"
          },
          "order": {
           "field": "t",
           "type": "temporal"
          }
         },
         "mark": "line"
        },
        {
         "mark": {
          "filled": true,
          "type": "point"
         }
        }
       ]
      },
      "image/png": "[encoded data removed]"
     },
     "execution_count": 17,
     "metadata": {},
     "output_type": "execute_result"
    }
   ],
   "source": [
    "(-> (points-tz->plot plot-3)\n",
    "    kind/vega-lite)"
   ]
  },
  {
   "cell_type": "markdown",
   "id": "997d072c-4db5-4ea8-834b-1f55561d3192",
   "metadata": {},
   "source": [
    "Show that your numerically attained harmonic-path approximates the well known analytic solution."
   ]
  },
  {
   "cell_type": "code",
   "execution_count": 18,
   "id": "4e6c7acd-6d35-46c7-97ee-8f6ad1a3b560",
   "metadata": {},
   "outputs": [
    {
     "data": {
      "application/vnd.vegalite.v3+json": {
       "$schema": "https://vega.github.io/schema/vega-lite/v2.json",
       "data": {
        "values": [
         {
          "id": "diff",
          "t": 0,
          "x": 0,
          "y": 0,
          "z": 1.1102230246251565e-16
         },
         {
          "id": "diff",
          "t": 0.04619989,
          "x": 0,
          "y": 0,
          "z": -7.705675042612992e-05
         },
         {
          "id": "diff",
          "t": 0.09239978,
          "x": 0,
          "y": 0,
          "z": -0.00011090567235849669
         },
         {
          "id": "diff",
          "t": 0.13859968,
          "x": 0,
          "y": 0,
          "z": -0.00011284957107138283
         },
         {
          "id": "diff",
          "t": 0.18479957,
          "x": 0,
          "y": 0,
          "z": -9.279042109799907e-05
         },
         {
          "id": "diff",
          "t": 0.23099945,
          "x": 0,
          "y": 0,
          "z": -5.925360598013629e-05
         },
         {
          "id": "diff",
          "t": 0.27719936,
          "x": 0,
          "y": 0,
          "z": -1.9421775862782376e-05
         },
         {
          "id": "diff",
          "t": 0.32339925,
          "x": 0,
          "y": 0,
          "z": 2.082167223438347e-05
         },
         {
          "id": "diff",
          "t": 0.36959913,
          "x": 0,
          "y": 0,
          "z": 5.6839789447704625e-05
         },
         {
          "id": "diff",
          "t": 0.41579902,
          "x": 0,
          "y": 0,
          "z": 8.517979052069524e-05
         },
         {
          "id": "diff",
          "t": 0.4619989,
          "x": 0,
          "y": 0,
          "z": 0.00010350161827477056
         },
         {
          "id": "diff",
          "t": 0.5081988,
          "x": 0,
          "y": 0,
          "z": 0.00011049743336633
         },
         {
          "id": "diff",
          "t": 0.5543987,
          "x": 0,
          "y": 0,
          "z": 0.00010580220658040762
         },
         {
          "id": "diff",
          "t": 0.6005986,
          "x": 0,
          "y": 0,
          "z": 8.989565162065283e-05
         },
         {
          "id": "diff",
          "t": 0.6467985,
          "x": 0,
          "y": 0,
          "z": 6.39955466728015e-05
         },
         {
          "id": "diff",
          "t": 0.69299835,
          "x": 0,
          "y": 0,
          "z": 2.994304501435785e-05
         },
         {
          "id": "diff",
          "t": 0.73919827,
          "x": 0,
          "y": 0,
          "z": -9.920453950984509e-06
         },
         {
          "id": "diff",
          "t": 0.7853982,
          "x": 0,
          "y": 0,
          "z": -5.288365177524845e-05
         },
         {
          "id": "diff",
          "t": 0.83159804,
          "x": 0,
          "y": 0,
          "z": -9.60035707461282e-05
         },
         {
          "id": "diff",
          "t": 0.87779796,
          "x": 0,
          "y": 0,
          "z": -0.00013625102631653618
         },
         {
          "id": "diff",
          "t": 0.9239978,
          "x": 0,
          "y": 0,
          "z": -0.00017066240834551216
         },
         {
          "id": "diff",
          "t": 0.97019774,
          "x": 0,
          "y": 0,
          "z": -0.00019649878631622375
         },
         {
          "id": "diff",
          "t": 1.0163976,
          "x": 0,
          "y": 0,
          "z": -0.00021141048684103492
         },
         {
          "id": "diff",
          "t": 1.0625975,
          "x": 0,
          "y": 0,
          "z": -0.0002136081195888151
         },
         {
          "id": "diff",
          "t": 1.1087974,
          "x": 0,
          "y": 0,
          "z": -0.00020203867570955936
         },
         {
          "id": "diff",
          "t": 1.1549973,
          "x": 0,
          "y": 0,
          "z": -0.00017656700469864672
         },
         {
          "id": "diff",
          "t": 1.2011971,
          "x": 0,
          "y": 0,
          "z": -0.0001381620136347017
         },
         {
          "id": "diff",
          "t": 1.2473971,
          "x": 0,
          "y": 0,
          "z": -8.908667790319402e-05
         },
         {
          "id": "diff",
          "t": 1.293597,
          "x": 0,
          "y": 0,
          "z": -3.309301369552875e-05
         },
         {
          "id": "diff",
          "t": 1.3397969,
          "x": 0,
          "y": 0,
          "z": 2.4380409075569487e-05
         },
         {
          "id": "diff",
          "t": 1.3859967,
          "x": 0,
          "y": 0,
          "z": 7.600729666151773e-05
         },
         {
          "id": "diff",
          "t": 1.4321966,
          "x": 0,
          "y": 0,
          "z": 0.00011237052845705642
         },
         {
          "id": "diff",
          "t": 1.4783965,
          "x": 0,
          "y": 0,
          "z": 0.00012175546788177616
         },
         {
          "id": "diff",
          "t": 1.5245965,
          "x": 0,
          "y": 0,
          "z": 8.994289531109173e-05
         },
         {
          "id": "diff",
          "t": 1.5707964,
          "x": 0,
          "y": 0,
          "z": -1.1862746323787142e-10
         }
        ]
       },
       "encoding": {
        "x": {
         "field": "t",
         "scale": {
          "zero": false
         },
         "type": "quantitative"
        },
        "y": {
         "field": "z",
         "scale": {
          "zero": false
         },
         "type": "quantitative"
        }
       },
       "layer": [
        {
         "encoding": {
          "color": {
           "field": "id",
           "type": "nominal"
          },
          "order": {
           "field": "t",
           "type": "temporal"
          }
         },
         "mark": "line"
        },
        {
         "mark": {
          "filled": true,
          "type": "point"
         }
        }
       ]
      },
      "image/png": "[encoded data removed]"
     },
     "execution_count": 18,
     "metadata": {},
     "output_type": "execute_result"
    }
   ],
   "source": [
    "(-> (points-tz->plot\n",
    "     {\"diff\" \n",
    "      (make-path-tz #(- (cos %) (harmonic-path %)) 0 pi-half 35)})\n",
    "    kind/vega-lite)"
   ]
  },
  {
   "cell_type": "markdown",
   "id": "3f1f2cb1-bff0-486b-8e9f-5eff4ec95898",
   "metadata": {},
   "source": [
    "Calculate the Lagrange equation of the harmonic oszillator."
   ]
  },
  {
   "cell_type": "code",
   "execution_count": 19,
   "id": "926ea473-f28f-448c-a15b-f75d41d0ff51",
   "metadata": {},
   "outputs": [
    {
     "data": {
      "text/html": [
       "$$k\\,q\\left(t\\right) + m\\,{D}^{2}q\\left(t\\right)$$"
      ]
     },
     "execution_count": 19,
     "metadata": {},
     "output_type": "execute_result"
    }
   ],
   "source": [
    "(tex$$ (((Lagrange-equations (lg/L-harmonic 'm 'k)) (literal-function 'q)) 't))"
   ]
  },
  {
   "cell_type": "markdown",
   "id": "860ff308-55b2-4050-ab7d-5b2c51f77fd8",
   "metadata": {},
   "source": [
    "## 1.5 The Euler-Lagrange Equations"
   ]
  },
  {
   "cell_type": "markdown",
   "id": "6ae456c1-abf6-41f9-b014-9e8191f65dec",
   "metadata": {},
   "source": [
    "### 1.5.2 Computing Lagrange's Equations"
   ]
  },
  {
   "cell_type": "markdown",
   "id": "45580d14-0f9b-464e-ae92-86775b459a01",
   "metadata": {},
   "source": [
    "#### The free particle"
   ]
  },
  {
   "cell_type": "markdown",
   "id": "d79855d9-bc99-4b46-a386-aa1a3ef9d97a",
   "metadata": {},
   "source": [
    "State the dynamic equation of motion (i.e. the Lagrange equation a.k.a Newton's second law) of the free particle."
   ]
  },
  {
   "cell_type": "code",
   "execution_count": 20,
   "id": "e71583d7-b418-4fb6-bc81-5824558a7118",
   "metadata": {},
   "outputs": [
    {
     "data": {
      "text/html": [
       "$$m\\,{D}^{2}q\\left(t\\right)$$"
      ]
     },
     "execution_count": 20,
     "metadata": {},
     "output_type": "execute_result"
    }
   ],
   "source": [
    "(tex$$ (((Lagrange-equations (lg/L-free-particle 'm)) (literal-function 'q)) 't))"
   ]
  },
  {
   "cell_type": "markdown",
   "id": "ceebdb2b-d56c-4def-bad6-5e4b9783a4a5",
   "metadata": {},
   "source": [
    "Check that an arbitrary straight-line path satisfies this equation, i.e. that inserting a straight line for $q(t)$ gives identically zero (strictly speaking the zero covector of three dimensions)."
   ]
  },
  {
   "cell_type": "code",
   "execution_count": 21,
   "id": "9c82a3b8-40ea-47b8-9600-0d05dc5eb6aa",
   "metadata": {},
   "outputs": [
    {
     "data": {
      "text/html": [
       "$$\\begin{bmatrix}\\displaystyle{0}&\\displaystyle{0}&\\displaystyle{0}\\end{bmatrix}$$"
      ]
     },
     "execution_count": 21,
     "metadata": {},
     "output_type": "execute_result"
    }
   ],
   "source": [
    "(letfn [(straight-line [t]\n",
    "  (up (+ (* 'a t) 'a0)\n",
    "    (+ (* 'b t) 'b0)\n",
    "    (+ (* 'c t) 'c0)))]\n",
    "   (tex$$ (((Lagrange-equations (lg/L-free-particle 'm)) straight-line) 't)))"
   ]
  },
  {
   "cell_type": "markdown",
   "id": "047612d3-2db7-439a-8147-7e335d416b3b",
   "metadata": {},
   "source": [
    "#### The harmonic oscillator"
   ]
  },
  {
   "cell_type": "markdown",
   "id": "ee56b68c-0a4d-4e47-88f3-666237c4504c",
   "metadata": {},
   "source": [
    "State the dynamic equation of motion for the harmonic oszillator with arbitrary mass and spring constant."
   ]
  },
  {
   "cell_type": "code",
   "execution_count": 22,
   "id": "4cea678b-6cd9-49da-a648-561f15ecd624",
   "metadata": {},
   "outputs": [
    {
     "data": {
      "text/html": [
       "$$k\\,q\\left(t\\right) + m\\,{D}^{2}q\\left(t\\right)$$"
      ]
     },
     "execution_count": 22,
     "metadata": {},
     "output_type": "execute_result"
    }
   ],
   "source": [
    "(tex$$ (((Lagrange-equations (lg/L-harmonic 'm 'k)) (literal-function 'q)) 't))"
   ]
  },
  {
   "cell_type": "markdown",
   "id": "d46384fa-c1f3-482d-bcce-53151e96e02e",
   "metadata": {},
   "source": [
    "Plug in a sinusoid with arbitrary amplitude $A$, frequency $\\omega$ and phase $\\phi$ and show that the only solutions allowed are ones where $\\omega = \\sqrt{k/m}$ "
   ]
  },
  {
   "cell_type": "code",
   "execution_count": 23,
   "id": "bf52a3d3-b28f-467c-82ea-af7a1fed8780",
   "metadata": {},
   "outputs": [
    {
     "data": {
      "text/html": [
       "$$- A\\,m\\,{\\omega}^{2}\\,\\cos\\left(\\omega\\,t + \\phi\\right) + A\\,k\\,\\cos\\left(\\omega\\,t + \\phi\\right)$$"
      ]
     },
     "execution_count": 23,
     "metadata": {},
     "output_type": "execute_result"
    }
   ],
   "source": [
    "(letfn [(proposed-solution [t]\n",
    "  (* 'A (cos (+ (* 'omega t) 'φ))))]\n",
    "  (tex$$ (((Lagrange-equations (lg/L-harmonic 'm 'k)) proposed-solution) 't)))"
   ]
  },
  {
   "cell_type": "markdown",
   "id": "efdba026-8d2c-45c2-93f9-2a1bd974fc0d",
   "metadata": {},
   "source": [
    "#### Exercise 1.11: Kepler's third law"
   ]
  },
  {
   "cell_type": "markdown",
   "id": "27166f01-2aef-4d18-bce9-d2a6ce2715c7",
   "metadata": {},
   "source": [
    "Show that a planet in circular orbit satisfies Kepler's third law $n^2a^3=G(M_1+m_2)$, where $n$ is the angular frequency of the orbit and $a$ is the distance between sun and planet. (Hint: use the reduced mass to construct the Lagrangian)"
   ]
  },
  {
   "cell_type": "code",
   "execution_count": 24,
   "id": "da713421-e85f-4898-ab4c-28f3553efaef",
   "metadata": {},
   "outputs": [
    {
     "data": {
      "text/html": [
       "$$\\begin{bmatrix}\\displaystyle{\\frac{- M_1\\,{a}^{3}\\,m_2\\,{n}^{2} + G\\,{M_1}^{2}\\,m_2 + G\\,M_1\\,{m_2}^{2}}{M_1\\,{a}^{2} + {a}^{2}\\,m_2}}&\\displaystyle{0}\\end{bmatrix}$$"
      ]
     },
     "execution_count": 24,
     "metadata": {},
     "output_type": "execute_result"
    }
   ],
   "source": [
    "(defn gravitational-energy [G M_1 m_2]\n",
    "  (fn [r]\n",
    "   (- (/ (* G M_1 m_2) r))))\n",
    "\n",
    "(defn circle [t]\n",
    "  (up 'a (* 'n t)))\n",
    "\n",
    "(let [lagrangian (lg/L-central-polar     \n",
    "                  (/ (* 'M_1 'm_2) (+ 'M_1 'm_2))     \n",
    "                  (gravitational-energy 'G 'M_1 'm_2))]\n",
    "      (tex$$ (((Lagrange-equations lagrangian) circle) 't)))"
   ]
  },
  {
   "cell_type": "markdown",
   "id": "d1e31a92-c1ff-45f0-9a09-20e5e2698704",
   "metadata": {},
   "source": [
    "## 1.6 How to find Lagrangians"
   ]
  },
  {
   "cell_type": "markdown",
   "id": "8fc01dd2-83c9-4662-a040-19a3a209b42c",
   "metadata": {},
   "source": [
    "#### Central force field"
   ]
  },
  {
   "cell_type": "markdown",
   "id": "a4773fd5-0d1b-4f33-909a-f0776e708d02",
   "metadata": {},
   "source": [
    "State the dynamic equation of motion for the uniform acceleration and the central potential, the latter in rectangular as well as in polar coordinates."
   ]
  },
  {
   "cell_type": "code",
   "execution_count": 25,
   "id": "113d6023-4eed-43af-933b-21dcaad34fec",
   "metadata": {
    "scrolled": true
   },
   "outputs": [
    {
     "data": {
      "text/html": [
       "$$\\begin{pmatrix}\\displaystyle{\\begin{bmatrix}\\displaystyle{m\\,{D}^{2}x\\left(t\\right)}&\\displaystyle{g\\,m + m\\,{D}^{2}y\\left(t\\right)}\\end{bmatrix}} \\cr \\cr \\displaystyle{\\begin{bmatrix}\\displaystyle{\\frac{m\\,{D}^{2}x\\left(t\\right)\\,\\sqrt {{\\left(x\\left(t\\right)\\right)}^{2} + {\\left(y\\left(t\\right)\\right)}^{2}} + x\\left(t\\right)\\,DU\\left(\\sqrt {{\\left(x\\left(t\\right)\\right)}^{2} + {\\left(y\\left(t\\right)\\right)}^{2}}\\right)}{\\sqrt {{\\left(x\\left(t\\right)\\right)}^{2} + {\\left(y\\left(t\\right)\\right)}^{2}}}}&\\displaystyle{\\frac{m\\,{D}^{2}y\\left(t\\right)\\,\\sqrt {{\\left(x\\left(t\\right)\\right)}^{2} + {\\left(y\\left(t\\right)\\right)}^{2}} + y\\left(t\\right)\\,DU\\left(\\sqrt {{\\left(x\\left(t\\right)\\right)}^{2} + {\\left(y\\left(t\\right)\\right)}^{2}}\\right)}{\\sqrt {{\\left(x\\left(t\\right)\\right)}^{2} + {\\left(y\\left(t\\right)\\right)}^{2}}}}\\end{bmatrix}} \\cr \\cr \\displaystyle{\\begin{bmatrix}\\displaystyle{- m\\,r\\left(t\\right)\\,{\\left(D\\phi\\left(t\\right)\\right)}^{2} + m\\,{D}^{2}r\\left(t\\right) + DU\\left(r\\left(t\\right)\\right)}&\\displaystyle{m\\,{\\left(r\\left(t\\right)\\right)}^{2}\\,{D}^{2}\\phi\\left(t\\right) + 2\\,m\\,r\\left(t\\right)\\,D\\phi\\left(t\\right)\\,Dr\\left(t\\right)}\\end{bmatrix}}\\end{pmatrix}$$"
      ]
     },
     "execution_count": 25,
     "metadata": {},
     "output_type": "execute_result"
    }
   ],
   "source": [
    "(tex$$ (up\n",
    "           (((Lagrange-equations\n",
    "              (lg/L-uniform-acceleration 'm 'g))\n",
    "            (up (literal-function 'x)\n",
    "              (literal-function 'y)))\n",
    "           't)\n",
    "           \n",
    "           (((Lagrange-equations\n",
    "              (lg/L-central-rectangular 'm (literal-function 'U)))\n",
    "            (up (literal-function 'x)\n",
    "              (literal-function 'y)))\n",
    "           't)\n",
    "           \n",
    "           (((Lagrange-equations\n",
    "              (lg/L-central-polar 'm (literal-function 'U)))\n",
    "            (up (literal-function 'r)\n",
    "              (literal-function 'phi)))\n",
    "           't)))"
   ]
  },
  {
   "cell_type": "markdown",
   "id": "5b4d620d-7b02-459a-98b1-4443ba73adbf",
   "metadata": {},
   "source": [
    "### 1.6.1 Coordinate transformations"
   ]
  },
  {
   "cell_type": "markdown",
   "id": "4c8ba1cc-59b8-4e95-b2ea-39f219c194f8",
   "metadata": {},
   "source": [
    "Calculate the $[\\dot x \\space \\dot y]$ velocity vector in polar coordinates."
   ]
  },
  {
   "cell_type": "code",
   "execution_count": 26,
   "id": "2aed399e-4123-46d0-bfdc-aa794f7f6a06",
   "metadata": {},
   "outputs": [
    {
     "data": {
      "text/html": [
       "$$\\begin{pmatrix}\\displaystyle{- r\\,\\dot {\\phi}\\,\\sin\\left(\\phi\\right) + \\dot r\\,\\cos\\left(\\phi\\right)} \\cr \\cr \\displaystyle{r\\,\\dot {\\phi}\\,\\cos\\left(\\phi\\right) + \\dot r\\,\\sin\\left(\\phi\\right)}\\end{pmatrix}$$"
      ]
     },
     "execution_count": 26,
     "metadata": {},
     "output_type": "execute_result"
    }
   ],
   "source": [
    "(tex$$ (velocity ((F->C p->r) (->local 't (up 'r 'φ) (up 'rdot 'φdot)))))"
   ]
  },
  {
   "cell_type": "markdown",
   "id": "3781b159-7bef-425f-9b35-116bc0ded5ee",
   "metadata": {},
   "source": [
    "Calculate the lagrangian in polar coordinates twice. Once directly and once via the lagrangian in rectangular coordinates."
   ]
  },
  {
   "cell_type": "code",
   "execution_count": 27,
   "id": "6f8ca13a-6659-49a2-b9ad-66dcd892142f",
   "metadata": {},
   "outputs": [
    {
     "data": {
      "text/html": [
       "$$\\begin{pmatrix}\\displaystyle{\\frac{1}{2}\\,m\\,{r}^{2}\\,{\\dot {\\phi}}^{2} + \\frac{1}{2}\\,m\\,{\\dot r}^{2} - U\\left(r\\right)} \\cr \\cr \\displaystyle{\\frac{1}{2}\\,m\\,{r}^{2}\\,{\\dot {\\phi}}^{2} + \\frac{1}{2}\\,m\\,{\\dot r}^{2} - U\\left(r\\right)}\\end{pmatrix}$$"
      ]
     },
     "execution_count": 27,
     "metadata": {},
     "output_type": "execute_result"
    }
   ],
   "source": [
    "(defn L-alternate-central-polar\n",
    "  [m U]\n",
    "  (compose (lg/L-central-rectangular m U) (F->C p->r)))\n",
    "\n",
    "(tex$$\n",
    " (let [lcp ((lg/L-central-polar 'm (literal-function 'U))\n",
    "            (->local 't (up 'r 'φ) (up 'rdot 'φdot)))\n",
    "       lacp ((L-alternate-central-polar 'm (literal-function 'U))\n",
    "             (->local 't (up 'r 'φ) (up 'rdot 'φdot)))]\n",
    "   (up lcp lacp)))"
   ]
  },
  {
   "cell_type": "markdown",
   "id": "3f7ccd32-4889-4527-b3ce-c40f814614c7",
   "metadata": {},
   "source": [
    "#### Coriolis and centrifugal forces"
   ]
  },
  {
   "cell_type": "markdown",
   "id": "ac6ffd40-e364-4a76-b355-3589674e334e",
   "metadata": {},
   "source": [
    "State, in cartesian coordinates, the Lagrangian for the two dimensional free particle in a rotating coordinate system."
   ]
  },
  {
   "cell_type": "code",
   "execution_count": 28,
   "id": "02aff645-b310-475f-8cb1-491aec7e7ae1",
   "metadata": {},
   "outputs": [
    {
     "data": {
      "text/html": [
       "$$\\frac{1}{2}\\,{\\Omega}^{2}\\,m\\,{x_r}^{2} + \\frac{1}{2}\\,{\\Omega}^{2}\\,m\\,{y_r}^{2} + \\Omega\\,m\\,x_r\\,{\\dot y}_r - \\Omega\\,m\\,{\\dot x}_r\\,y_r + \\frac{1}{2}\\,m\\,{{\\dot x}_r}^{2} + \\frac{1}{2}\\,m\\,{{\\dot y}_r}^{2}$$"
      ]
     },
     "execution_count": 28,
     "metadata": {},
     "output_type": "execute_result"
    }
   ],
   "source": [
    "(def L-free-rectangular lg/L-free-particle)\n",
    "\n",
    "(defn L-free-polar [m]\n",
    " (compose (L-free-rectangular m) (F->C p->r)))\n",
    "\n",
    "(defn F [Omega]\n",
    " (fn [[t [r theta]]]\n",
    "  (up r (+ theta (* Omega t)))))\n",
    "\n",
    "(defn L-rotating-polar [m Omega]\n",
    " (compose (L-free-polar m) (F->C (F Omega))))\n",
    "\n",
    "(defn r->p\n",
    "  \"rectangular to polar coordinates of state.\"\n",
    "  [[_ [x y :as q]]]\n",
    "  (up (sqrt (square q)) (atan (/ y x))))\n",
    "\n",
    "(defn L-rotating-rectangular [m Omega]\n",
    "  (compose (L-rotating-polar m Omega) (F->C r->p)))\n",
    "\n",
    "(tex$$ ((L-rotating-rectangular 'm 'Omega) (up 't (up 'x_r 'y_r) (up 'xdot_r 'ydot_r))))"
   ]
  },
  {
   "cell_type": "code",
   "execution_count": 29,
   "id": "068a9353-48eb-486b-a9a4-02a08156f812",
   "metadata": {},
   "outputs": [
    {
     "data": {
      "text/html": [
       "$$\\frac{1}{2}\\,{\\Omega}^{2}\\,m\\,{x_r}^{2} + \\frac{1}{2}\\,{\\Omega}^{2}\\,m\\,{y_r}^{2} + \\Omega\\,m\\,x_r\\,{\\dot y}_r - \\Omega\\,m\\,{\\dot x}_r\\,y_r + \\frac{1}{2}\\,m\\,{{\\dot x}_r}^{2} + \\frac{1}{2}\\,m\\,{{\\dot y}_r}^{2}$$"
      ]
     },
     "execution_count": 29,
     "metadata": {},
     "output_type": "execute_result"
    }
   ],
   "source": [
    ";; speed up calculation\n",
    "(defmacro Lrrsm []\n",
    "  (list 'fn ['m 'Omega]\n",
    "        (list 'fn [['t ['x_r 'y_r] ['xdot_r 'ydot_r]]]\n",
    "              (clojure.edn/read-string\n",
    "               (prn-str\n",
    "                (simplify ((L-rotating-rectangular 'm 'Omega)\n",
    "                           (up 't (up 'x_r 'y_r) (up 'xdot_r 'ydot_r)))))))))\n",
    "\n",
    "(def L-rotating-rectangular-simp (Lrrsm))\n",
    "\n",
    "(tex$$ ((L-rotating-rectangular-simp 'm 'Omega) (up 't (up 'x_r 'y_r) (up 'xdot_r 'ydot_r))))"
   ]
  },
  {
   "cell_type": "markdown",
   "id": "a4b22842-4b0b-4ac2-a4b7-84c993571202",
   "metadata": {},
   "source": [
    "Derive the equations of motion, in which the centrifugal and the coriolis force appear."
   ]
  },
  {
   "cell_type": "code",
   "execution_count": 30,
   "id": "4e620873-2c14-482a-abee-4c576543a3d9",
   "metadata": {},
   "outputs": [
    {
     "data": {
      "text/html": [
       "$$\\begin{bmatrix}\\displaystyle{- {\\Omega}^{2}\\,m\\,x_r\\left(t\\right) - 2\\,\\Omega\\,m\\,Dy_r\\left(t\\right) + m\\,{D}^{2}x_r\\left(t\\right)}&\\displaystyle{- {\\Omega}^{2}\\,m\\,y_r\\left(t\\right) + 2\\,\\Omega\\,m\\,Dx_r\\left(t\\right) + m\\,{D}^{2}y_r\\left(t\\right)}\\end{bmatrix}$$"
      ]
     },
     "execution_count": 30,
     "metadata": {},
     "output_type": "execute_result"
    }
   ],
   "source": [
    "(tex$$\n",
    "  (((Lagrange-equations (L-rotating-rectangular 'm 'Omega))\n",
    "     (up (literal-function 'x_r) (literal-function 'y_r)))\n",
    "     't))"
   ]
  },
  {
   "cell_type": "code",
   "execution_count": 31,
   "id": "3c5e3ffd-8324-4c49-b22e-00a564113f1d",
   "metadata": {},
   "outputs": [
    {
     "data": {
      "text/html": [
       "$$\\begin{bmatrix}\\displaystyle{- {\\Omega}^{2}\\,m\\,x_r\\left(t\\right) - 2\\,\\Omega\\,m\\,Dy_r\\left(t\\right) + m\\,{D}^{2}x_r\\left(t\\right)}&\\displaystyle{- {\\Omega}^{2}\\,m\\,y_r\\left(t\\right) + 2\\,\\Omega\\,m\\,Dx_r\\left(t\\right) + m\\,{D}^{2}y_r\\left(t\\right)}\\end{bmatrix}$$"
      ]
     },
     "execution_count": 31,
     "metadata": {},
     "output_type": "execute_result"
    }
   ],
   "source": [
    ";; this is much faster\n",
    "(tex$$\n",
    "  (((Lagrange-equations (L-rotating-rectangular-simp 'm 'Omega))\n",
    "     (up (literal-function 'x_r) (literal-function 'y_r)))\n",
    "     't))"
   ]
  },
  {
   "cell_type": "markdown",
   "id": "36ff05b9-3494-4f0f-8604-4e34ae3dc485",
   "metadata": {},
   "source": [
    "Plot a clockwise rotating path. (Hints: (1) Use the SICM function \"Gamma\" to create the triple $(t \\: (x \\: y) \\: (\\dot{x} \\: \\dot{y}))$ which can be transformed, (2) the angular frequency must be negative)"
   ]
  },
  {
   "cell_type": "code",
   "execution_count": 32,
   "id": "ca2ce5ab-2692-4a04-b10a-c71f5ceac852",
   "metadata": {},
   "outputs": [
    {
     "data": {
      "application/vnd.vegalite.v3+json": {
       "$schema": "https://vega.github.io/schema/vega-lite/v2.json",
       "data": {
        "values": [
         {
          "id": "rotating-path-2d",
          "t": 0,
          "x": 7.000000000000001,
          "y": 11,
          "z": null
         },
         {
          "id": "rotating-path-2d",
          "t": 0.125,
          "x": 11.12041186222862,
          "y": 8.115891202721052,
          "z": null
         },
         {
          "id": "rotating-path-2d",
          "t": 0.25,
          "x": 14.020663544057955,
          "y": 3.6804882535234658,
          "z": null
         },
         {
          "id": "rotating-path-2d",
          "t": 0.375,
          "x": 15.120004473015014,
          "y": -1.779526548272321,
          "z": null
         },
         {
          "id": "rotating-path-2d",
          "t": 0.5,
          "x": 14.067448533330209,
          "y": -7.523755163620473,
          "z": null
         },
         {
          "id": "rotating-path-2d",
          "t": 0.625,
          "x": 10.818101797804456,
          "y": -12.698422086713766,
          "z": null
         },
         {
          "id": "rotating-path-2d",
          "t": 0.75,
          "x": 5.665973643911502,
          "y": -16.462738006373673,
          "z": null
         },
         {
          "id": "rotating-path-2d",
          "t": 0.875,
          "x": -0.7749820304799805,
          "y": -18.12265578916162,
          "z": null
         },
         {
          "id": "rotating-path-2d",
          "t": 1,
          "x": -7.64200483704658,
          "y": -17.2510800262058,
          "z": null
         },
         {
          "id": "rotating-path-2d",
          "t": 1.125,
          "x": -13.93893057072037,
          "y": -13.77452229823732,
          "z": null
         },
         {
          "id": "rotating-path-2d",
          "t": 1.25,
          "x": -18.68044583970571,
          "y": -8.010364737627222,
          "z": null
         },
         {
          "id": "rotating-path-2d",
          "t": 1.375,
          "x": -21.044338929952158,
          "y": -0.645793311594346,
          "z": null
         },
         {
          "id": "rotating-path-2d",
          "t": 1.5,
          "x": -20.508458870258266,
          "y": 7.341874063679186,
          "z": null
         },
         {
          "id": "rotating-path-2d",
          "t": 1.625,
          "x": -16.950194721830435,
          "y": 14.814592430844387,
          "z": null
         },
         {
          "id": "rotating-path-2d",
          "t": 1.75,
          "x": -10.69090914896265,
          "y": 20.635635720002103,
          "z": null
         },
         {
          "id": "rotating-path-2d",
          "t": 1.875,
          "x": -2.475343539241264,
          "y": 23.841223214481605,
          "z": null
         },
         {
          "id": "rotating-path-2d",
          "t": 2,
          "x": 6.614488264277301,
          "y": 23.795977496243726,
          "z": null
         },
         {
          "id": "rotating-path-2d",
          "t": 2.125,
          "x": 15.301368694109716,
          "y": 20.307618424791205,
          "z": null
         },
         {
          "id": "rotating-path-2d",
          "t": 2.25,
          "x": 22.29231788109355,
          "y": 13.681285154848455,
          "z": null
         },
         {
          "id": "rotating-path-2d",
          "t": 2.375,
          "x": 26.470200232410804,
          "y": 4.702100557844234,
          "z": null
         },
         {
          "id": "rotating-path-2d",
          "t": 2.5,
          "x": 27.069211562814242,
          "y": -5.455069694110598,
          "z": null
         },
         {
          "id": "rotating-path-2d",
          "t": 2.625,
          "x": 23.807046149635916,
          "y": -15.378745190330246,
          "z": null
         },
         {
          "id": "rotating-path-2d",
          "t": 2.75,
          "x": 16.951798157277285,
          "y": -23.616975658092432,
          "z": null
         },
         {
          "id": "rotating-path-2d",
          "t": 2.875,
          "x": 7.310454107422587,
          "y": -28.889245589721934,
          "z": null
         },
         {
          "id": "rotating-path-2d",
          "t": 3,
          "x": -3.863003573869154,
          "y": -30.28328257286971,
          "z": null
         }
        ]
       },
       "encoding": {
        "x": {
         "field": "x",
         "scale": {
          "zero": false
         },
         "type": "quantitative"
        },
        "y": {
         "field": "y",
         "scale": {
          "zero": false
         },
         "type": "quantitative"
        }
       },
       "layer": [
        {
         "encoding": {
          "color": {
           "field": "id",
           "type": "nominal"
          },
          "order": {
           "field": "t",
           "type": "temporal"
          }
         },
         "mark": "line"
        },
        {
         "mark": {
          "filled": true,
          "type": "point"
         }
        }
       ]
      },
      "image/png": "[encoded data removed]"
     },
     "execution_count": 32,
     "metadata": {},
     "output_type": "execute_result"
    }
   ],
   "source": [
    "(defn test-path-2d\n",
    "  [t]\n",
    "  (up\n",
    "   (+ (* 3 t) 7)\n",
    "   (+ (* 5 t) 11)))\n",
    "\n",
    "(defmacro rpm []\n",
    "  (list 'fn ['Omega 't]\n",
    "        (clojure.edn/read-string\n",
    "         (prn-str\n",
    "          (simplify\n",
    "           ((F->C p->r)\n",
    "            ((F->C (F 'Omega))\n",
    "             ((F->C r->p)\n",
    "              ((Gamma test-path-2d) 't)))))))))\n",
    "\n",
    "(def rotate-path (rpm))\n",
    "\n",
    "(defn rotating-path-2d [Omega]\n",
    "  (up (fn [t] (get-in (rotate-path Omega t) [1 0]))\n",
    "      (fn [t] (get-in (rotate-path Omega t) [1 1]))))\n",
    "\n",
    "(let [NegativeOm -3]\n",
    "    (-> (points-xy->plot {\"rotating-path-2d\" (make-path-txyz (rotating-path-2d NegativeOm) 0 3 25)})\n",
    "        kind/vega-lite))"
   ]
  },
  {
   "cell_type": "markdown",
   "id": "3cf46200-1a61-47c3-ae55-7df55c4a7473",
   "metadata": {},
   "source": [
    "Show that this path indeed satiesfies the equations of motion in a rotating coordinate system."
   ]
  },
  {
   "cell_type": "code",
   "execution_count": 33,
   "id": "fd4f8ff0-8364-470f-891c-99db6ac83fd1",
   "metadata": {},
   "outputs": [
    {
     "data": {
      "text/html": [
       "<div class=\"kind-seq\"><div style=\"border:1px solid grey;padding:2px;\">0</div><div style=\"border:1px solid grey;padding:2px;\">0</div></div>"
      ]
     },
     "execution_count": 33,
     "metadata": {},
     "output_type": "execute_result"
    }
   ],
   "source": [
    "(simplify\n",
    "   (let [Om 'Omega\n",
    "         NegativeOm (* -1 Om)]\n",
    "     (((Lagrange-equations (L-rotating-rectangular-simp 'm Om))\n",
    "       (rotating-path-2d NegativeOm))\n",
    "      't)))"
   ]
  },
  {
   "cell_type": "markdown",
   "id": "4bc6e30d-8b26-4f04-85e6-682ed5259545",
   "metadata": {},
   "source": [
    "### 1.6.2 Systems with rigid constraints"
   ]
  },
  {
   "cell_type": "markdown",
   "id": "413b7225-db32-4bad-b1d8-d815256d83b8",
   "metadata": {},
   "source": [
    "#### A pendulum driven at the pivot"
   ]
  },
  {
   "cell_type": "markdown",
   "id": "7bb85b12-26c6-470b-91bd-8c28e75915de",
   "metadata": {},
   "source": [
    "State Lagrange’s equation for this system."
   ]
  },
  {
   "cell_type": "code",
   "execution_count": 34,
   "id": "78d33019-6459-4a65-9bc5-80ffc06a3069",
   "metadata": {},
   "outputs": [
    {
     "data": {
      "text/html": [
       "$$g\\,l\\,m\\,\\sin\\left(\\theta\\left(t\\right)\\right) + {l}^{2}\\,m\\,{D}^{2}\\theta\\left(t\\right) + l\\,m\\,\\sin\\left(\\theta\\left(t\\right)\\right)\\,{D}^{2}y_s\\left(t\\right)$$"
      ]
     },
     "execution_count": 34,
     "metadata": {},
     "output_type": "execute_result"
    }
   ],
   "source": [
    "(defn T-pend\n",
    "  [m l _ ys]\n",
    "  (fn [local]\n",
    "    (let [[t theta thetadot] local\n",
    "          vys (D ys)]\n",
    "      (* 1/2 m\n",
    "         (+ (square (* l thetadot))\n",
    "            (square (vys t))\n",
    "            (* 2 l (vys t) thetadot (sin theta)))))))\n",
    "\n",
    "(defn V-pend\n",
    "  [m l g ys]\n",
    "  (fn [local]\n",
    "    (let [[t theta _] local]\n",
    "      (* m g (- (ys t) (* l (cos theta)))))))\n",
    "\n",
    "(def L-pend (- T-pend V-pend))\n",
    "\n",
    "(def θ (literal-function 'θ))\n",
    "(def y_s (literal-function 'y_s))\n",
    "\n",
    "(tex$$\n",
    "  (((Lagrange-equations (L-pend 'm 'l 'g y_s)) θ) 't))"
   ]
  },
  {
   "cell_type": "markdown",
   "id": "8e0cacd8-025e-48be-b5ca-7f0ef03b9206",
   "metadata": {},
   "source": [
    "State the Lagrangian"
   ]
  },
  {
   "cell_type": "code",
   "execution_count": 35,
   "id": "5869b6f6-8632-4669-a905-c860251c29e3",
   "metadata": {},
   "outputs": [
    {
     "data": {
      "text/html": [
       "$$\\frac{1}{2}\\,{l}^{2}\\,m\\,{\\dot {\\theta}}^{2} + l\\,m\\,\\dot {\\theta}\\,Dy_s\\left(t\\right)\\,\\sin\\left(\\theta\\right) + g\\,l\\,m\\,\\cos\\left(\\theta\\right) - g\\,m\\,y_s\\left(t\\right) + \\frac{1}{2}\\,m\\,{\\left(Dy_s\\left(t\\right)\\right)}^{2}$$"
      ]
     },
     "execution_count": 35,
     "metadata": {},
     "output_type": "execute_result"
    }
   ],
   "source": [
    "(tex$$\n",
    "  ((L-pend 'm 'l 'g y_s) (->local 't 'θ 'θdot)))"
   ]
  },
  {
   "cell_type": "markdown",
   "id": "f1102652-a32d-4e46-b90e-85d6752450e6",
   "metadata": {},
   "source": [
    "### 1.6.3 Constraints as Coordinate Transformations"
   ]
  },
  {
   "cell_type": "markdown",
   "id": "b8a3b863-1d3e-4bb9-80d5-d8b58441f7a3",
   "metadata": {},
   "source": [
    "Derive the previous result by using coordinate transformations."
   ]
  },
  {
   "cell_type": "code",
   "execution_count": 36,
   "id": "3156894f-1772-40ae-8175-ad66c92a8482",
   "metadata": {},
   "outputs": [
    {
     "data": {
      "text/html": [
       "$$\\frac{1}{2}\\,{l}^{2}\\,m\\,{\\dot {\\theta}}^{2} + l\\,m\\,\\dot {\\theta}\\,Dy_s\\left(t\\right)\\,\\sin\\left(\\theta\\right) + g\\,l\\,m\\,\\cos\\left(\\theta\\right) - g\\,m\\,y_s\\left(t\\right) + \\frac{1}{2}\\,m\\,{\\left(Dy_s\\left(t\\right)\\right)}^{2}$$"
      ]
     },
     "execution_count": 36,
     "metadata": {},
     "output_type": "execute_result"
    }
   ],
   "source": [
    "(defn L-uniform-acceleration [m g]\n",
    "  (fn [[_ [_ y] v]]\n",
    "    (- (* 1/2 m (square v)) (* m g y))))\n",
    "\n",
    "(defn dp-coordinates [l y_s]\n",
    "  (fn [[t θ]]\n",
    "    (let [x (* l (sin θ))\n",
    "          y (- (y_s t) (* l (cos θ)))]\n",
    "      (up x y))))\n",
    "\n",
    "(defn L-pend2 [m l g y_s]\n",
    "  (comp (L-uniform-acceleration m g)\n",
    "        (F->C (dp-coordinates l y_s))))\n",
    "(tex$$\n",
    "        ((L-pend2 'm 'l 'g y_s) (->local 't 'θ 'θdot)))"
   ]
  },
  {
   "cell_type": "markdown",
   "id": "3a4a2a50-f4ed-4eb4-8b13-f84be76db961",
   "metadata": {},
   "source": [
    "### 1.8.3 Central Forces in Three Dimensions"
   ]
  },
  {
   "cell_type": "markdown",
   "id": "4f0c0960-c43a-4461-9482-1ebce20e5c6f",
   "metadata": {},
   "source": [
    "Calculate the z-component of the angular momentum of an arbitrary path in rectangular and spherical coordinates."
   ]
  },
  {
   "cell_type": "code",
   "execution_count": 37,
   "id": "ee6b3974-cdb5-4c47-ba56-0b6d9f7fb60a",
   "metadata": {},
   "outputs": [
    {
     "data": {
      "text/html": [
       "$$\\begin{pmatrix}\\displaystyle{m\\,x\\,\\dot y - m\\,\\dot x\\,y} \\cr \\cr \\displaystyle{m\\,{r}^{2}\\,\\dot {\\phi}\\,{\\sin}^{2}\\left(\\theta\\right)}\\end{pmatrix}$$"
      ]
     },
     "execution_count": 37,
     "metadata": {},
     "output_type": "execute_result"
    }
   ],
   "source": [
    "(def rectangular-state (up 't\n",
    "                           (up 'x 'y 'z)\n",
    "                           (up 'xdot 'ydot 'zdot)))\n",
    "\n",
    "(def spherical-state (up 't\n",
    "                         (up 'r 'θ 'φ)\n",
    "                         (up 'rdot 'θdot 'φdot)))\n",
    "\n",
    "(defn ang-mom-z [m]\n",
    "  (fn [[_ xyz v]]\n",
    "    (get (cross-product xyz (* m v)) 2)))\n",
    "\n",
    "(tex$$\n",
    "  (up\n",
    "    ((ang-mom-z 'm) rectangular-state)\n",
    "    ((compose (ang-mom-z 'm) (F->C s->r)) spherical-state)))"
   ]
  },
  {
   "cell_type": "markdown",
   "id": "eef3c8f9-9d52-455f-a7ad-cb075877209b",
   "metadata": {},
   "source": [
    "Using sherical coordinates, calculate the generalized forces and the generalized momenta of a planet moving in a central potential. Thus show that the momentum conjugate to the third coordinate $\\phi$ is (1) conserved (because the respective force is zero) and (2) identical the z-component of the angular momentum."
   ]
  },
  {
   "cell_type": "code",
   "execution_count": 38,
   "id": "b8785e50-ede8-4f52-8465-cc009975bc44",
   "metadata": {},
   "outputs": [
    {
     "data": {
      "text/html": [
       "$$\\begin{pmatrix}\\displaystyle{\\begin{bmatrix}\\displaystyle{m\\,r\\,{\\dot {\\phi}}^{2}\\,{\\sin}^{2}\\left(\\theta\\right) + m\\,r\\,{\\dot {\\theta}}^{2} - DV\\left(r\\right)}&\\displaystyle{m\\,{r}^{2}\\,{\\dot {\\phi}}^{2}\\,\\sin\\left(\\theta\\right)\\,\\cos\\left(\\theta\\right)}&\\displaystyle{0}\\end{bmatrix}} \\cr \\cr \\displaystyle{\\begin{bmatrix}\\displaystyle{m\\,\\dot r}&\\displaystyle{m\\,{r}^{2}\\,\\dot {\\theta}}&\\displaystyle{m\\,{r}^{2}\\,\\dot {\\phi}\\,{\\sin}^{2}\\left(\\theta\\right)}\\end{bmatrix}}\\end{pmatrix}$$"
      ]
     },
     "execution_count": 38,
     "metadata": {},
     "output_type": "execute_result"
    }
   ],
   "source": [
    "(def V (literal-function 'V))\n",
    "\n",
    "(defn T3-spherical [m]\n",
    " (compose (L-free-rectangular m) (F->C s->r)))\n",
    "\n",
    "(defn L3-central [m Vr]\n",
    "  (let [Vs (fn [[_ [r]]] (Vr r))]\n",
    "    (- (T3-spherical m) Vs)))\n",
    "\n",
    "(tex$$\n",
    "  (up\n",
    "    (((partial 1) (L3-central 'm V)) spherical-state)\n",
    "    (((partial 2) (L3-central 'm V)) spherical-state)))"
   ]
  },
  {
   "cell_type": "markdown",
   "id": "8313550d-e2a6-4b53-83f9-1e2f1b22d13c",
   "metadata": {},
   "source": [
    "Show that the energy state function computed from the Lagrangian for a central field is in fact T + V."
   ]
  },
  {
   "cell_type": "code",
   "execution_count": 39,
   "id": "3d1f3ba6-6a16-4dd4-9bc3-223d49a984b1",
   "metadata": {},
   "outputs": [
    {
     "data": {
      "text/html": [
       "$$\\begin{pmatrix}\\displaystyle{\\frac{1}{2}\\,m\\,{r}^{2}\\,{\\dot {\\phi}}^{2}\\,{\\sin}^{2}\\left(\\theta\\right) + \\frac{1}{2}\\,m\\,{r}^{2}\\,{\\dot {\\theta}}^{2} + \\frac{1}{2}\\,m\\,{\\dot r}^{2}} \\cr \\cr \\displaystyle{\\frac{1}{2}\\,m\\,{r}^{2}\\,{\\dot {\\phi}}^{2}\\,{\\sin}^{2}\\left(\\theta\\right) + \\frac{1}{2}\\,m\\,{r}^{2}\\,{\\dot {\\theta}}^{2} + \\frac{1}{2}\\,m\\,{\\dot r}^{2} + V\\left(r\\right)}\\end{pmatrix}$$"
      ]
     },
     "execution_count": 39,
     "metadata": {},
     "output_type": "execute_result"
    }
   ],
   "source": [
    "(tex$$\n",
    "  (up  \n",
    "    ((T3-spherical 'm) (->local 't (up 'r 'θ 'φ) (up 'rdot 'θdot 'φdot)))\n",
    "    ((Lagrangian->energy (L3-central 'm V)) spherical-state)))"
   ]
  }
 ],
 "metadata": {
  "kernelspec": {
   "display_name": "Clojure (clojupyter-0.5.384)",
   "language": "clojure",
   "name": "clojupyter-0.5.384"
  },
  "language_info": {
   "file_extension": ".clj",
   "mimetype": "text/x-clojure",
   "name": "clojure",
   "version": "1.12.0"
  }
 },
 "nbformat": 4,
 "nbformat_minor": 5
}
